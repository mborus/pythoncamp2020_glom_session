{
 "cells": [
  {
   "cell_type": "code",
   "execution_count": 25,
   "metadata": {},
   "outputs": [],
   "source": [
    "# Housekeeping - This cell shortens the traceback of error messages\n",
    "# unless you're on mybinder.org \n",
    "\n",
    "import json \n",
    "from pprint import pprint\n",
    "import sys\n",
    "ipython = get_ipython()\n",
    "unhide_traceback = None\n",
    "\n",
    "def hide_traceback(exc_tuple=None, filename=None, tb_offset=None,\n",
    "                   exception_only=False, running_compiled_code=False):\n",
    "    etype, value, tb = sys.exc_info()\n",
    "    return ipython._showtraceback(etype, value, ipython.InteractiveTB.get_exception_only(etype, value))\n",
    "\n",
    "if not unhide_traceback:\n",
    "    unhide_traceback = ipython.showtraceback\n",
    "\n",
    "ipython.showtraceback = hide_traceback   # or:  ipython.showtraceback = unhide_traceback\n"
   ]
  },
  {
   "cell_type": "markdown",
   "metadata": {},
   "source": [
    "\n",
    "Pythoncamp 2020 Session Martin Borus, Twitter: @mborus\n",
    "\n",
    "Translated - Originally done in German\n",
    "\n",
    "# GLOM\n",
    "\n",
    "by Mahmoud Hashemi\n",
    "\n",
    "## \"If you have nested data, you need Glom!\"\n",
    "\n",
    "https://github.com/mahmoud/glom \n",
    "\n"
   ]
  },
  {
   "cell_type": "markdown",
   "metadata": {},
   "source": [
    "\n",
    "\n",
    "# Main features of Glom\n",
    "\n",
    "- Path based access\n",
    "- Declarative data transformation \n",
    "- Easy to read helpful error messages\n",
    "- comes with debugging features\n"
   ]
  },
  {
   "cell_type": "markdown",
   "metadata": {},
   "source": [
    "## Preparation for this notebook\n",
    "\n",
    "pip install glom  # current version 20.5.0\n",
    "\n",
    "pip install requests\n",
    "\n",
    "Full docs and tutorial at https://glom.readthedocs.io,\n",
    "some examples from this tutorial are included here"
   ]
  },
  {
   "cell_type": "markdown",
   "metadata": {},
   "source": [
    "# 1. Normal Python\n",
    "\n",
    "These are some examples on how to access nested data with regular Python"
   ]
  },
  {
   "cell_type": "code",
   "execution_count": 26,
   "metadata": {},
   "outputs": [],
   "source": [
    "data = {'a': {'b': {'c': 'd'}}}"
   ]
  },
  {
   "cell_type": "code",
   "execution_count": 27,
   "metadata": {},
   "outputs": [
    {
     "data": {
      "text/plain": [
       "'d'"
      ]
     },
     "execution_count": 27,
     "metadata": {},
     "output_type": "execute_result"
    }
   ],
   "source": [
    "data['a']['b']['c']"
   ]
  },
  {
   "cell_type": "code",
   "execution_count": 28,
   "metadata": {},
   "outputs": [],
   "source": [
    "data2 = {'a': {'b': None}}"
   ]
  },
  {
   "cell_type": "code",
   "execution_count": 29,
   "metadata": {},
   "outputs": [
    {
     "ename": "TypeError",
     "evalue": "'NoneType' object is not subscriptable",
     "output_type": "error",
     "traceback": [
      "\u001b[1;31mTypeError\u001b[0m\u001b[1;31m:\u001b[0m 'NoneType' object is not subscriptable\n"
     ]
    }
   ],
   "source": [
    "data2['a']['b']['c']"
   ]
  },
  {
   "cell_type": "code",
   "execution_count": null,
   "metadata": {},
   "outputs": [],
   "source": []
  },
  {
   "cell_type": "markdown",
   "metadata": {},
   "source": [
    "# 2. Glom \n",
    "\n",
    "Here's how you do the same thing in Glom, using the data above"
   ]
  },
  {
   "cell_type": "code",
   "execution_count": 30,
   "metadata": {},
   "outputs": [],
   "source": [
    "from glom import glom"
   ]
  },
  {
   "cell_type": "code",
   "execution_count": 31,
   "metadata": {},
   "outputs": [
    {
     "data": {
      "text/plain": [
       "'d'"
      ]
     },
     "execution_count": 31,
     "metadata": {},
     "output_type": "execute_result"
    }
   ],
   "source": [
    "glom(data, 'a.b.c')"
   ]
  },
  {
   "cell_type": "code",
   "execution_count": 32,
   "metadata": {
    "collapsed": true,
    "jupyter": {
     "outputs_hidden": true
    }
   },
   "outputs": [
    {
     "name": "stderr",
     "output_type": "stream",
     "text": [
      "ERROR:root:Internal Python error in the inspect module.\n",
      "Below is the traceback from this internal error.\n",
      "\n"
     ]
    },
    {
     "name": "stdout",
     "output_type": "stream",
     "text": [
      "Traceback (most recent call last):\n",
      "  File \"c:\\users\\martin\\src\\glom\\glom\\core.py\", line 1212, in _t_eval\n",
      "    cur = get(cur, arg)\n",
      "AttributeError: 'NoneType' object has no attribute 'c'\n",
      "\n",
      "During handling of the above exception, another exception occurred:\n",
      "\n",
      "Traceback (most recent call last):\n",
      "  File \"C:\\Python38\\lib\\site-packages\\IPython\\core\\interactiveshell.py\", line 3331, in run_code\n",
      "    exec(code_obj, self.user_global_ns, self.user_ns)\n",
      "  File \"<ipython-input-32-c52c6938e1d9>\", line 2, in <module>\n",
      "    glom(data2, 'a.b.c')\n",
      "  File \"c:\\users\\martin\\src\\glom\\glom\\core.py\", line 1827, in glom\n",
      "    ret = _glom(target, spec, scope)\n",
      "  File \"c:\\users\\martin\\src\\glom\\glom\\core.py\", line 1848, in _glom\n",
      "    return scope[MODE](target, spec, scope)\n",
      "  File \"c:\\users\\martin\\src\\glom\\glom\\core.py\", line 1859, in AUTO\n",
      "    return Path.from_text(spec).glomit(target, scope)\n",
      "  File \"c:\\users\\martin\\src\\glom\\glom\\core.py\", line 373, in glomit\n",
      "    return _t_eval(target, self.path_t, scope)\n",
      "  File \"c:\\users\\martin\\src\\glom\\glom\\core.py\", line 1214, in _t_eval\n",
      "    raise PathAccessError(e, Path(_t), i // 2)\n",
      "glom.core.PathAccessError: could not access 'c', part 2 of Path('a', 'b', 'c'), got error: AttributeError(\"'NoneType' object has no attribute 'c'\")\n",
      "\n",
      "During handling of the above exception, another exception occurred:\n",
      "\n",
      "Traceback (most recent call last):\n",
      "  File \"C:\\Python38\\lib\\site-packages\\IPython\\core\\ultratb.py\", line 1148, in get_records\n",
      "    return _fixed_getinnerframes(etb, number_of_lines_of_context, tb_offset)\n",
      "  File \"C:\\Python38\\lib\\site-packages\\IPython\\core\\ultratb.py\", line 316, in wrapped\n",
      "    return f(*args, **kwargs)\n",
      "  File \"C:\\Python38\\lib\\site-packages\\IPython\\core\\ultratb.py\", line 350, in _fixed_getinnerframes\n",
      "    records = fix_frame_records_filenames(inspect.getinnerframes(etb, context))\n",
      "  File \"C:\\Python38\\lib\\inspect.py\", line 1503, in getinnerframes\n",
      "    frameinfo = (tb.tb_frame,) + getframeinfo(tb, context)\n",
      "AttributeError: 'tuple' object has no attribute 'tb_frame'\n"
     ]
    },
    {
     "ename": "PathAccessError",
     "evalue": "could not access 'c', part 2 of Path('a', 'b', 'c'), got error: AttributeError(\"'NoneType' object has no attribute 'c'\")",
     "output_type": "error",
     "traceback": [
      "\u001b[1;31m---------------------------------------------------------------------------\u001b[0m",
      "\nDuring handling of the above exception, another exception occurred:\n",
      "\u001b[1;31mPathAccessError\u001b[0m\u001b[1;31m:\u001b[0m could not access 'c', part 2 of Path('a', 'b', 'c'), got error: AttributeError(\"'NoneType' object has no attribute 'c'\")\n"
     ]
    }
   ],
   "source": [
    "# this here will product an error message\n",
    "glom(data2, 'a.b.c')\n"
   ]
  },
  {
   "cell_type": "code",
   "execution_count": 33,
   "metadata": {},
   "outputs": [
    {
     "name": "stdout",
     "output_type": "stream",
     "text": [
      "could not access 'c', part 2 of Path('a', 'b', 'c'), got error: AttributeError(\"'NoneType' object has no attribute 'c'\")\n"
     ]
    }
   ],
   "source": [
    "# Glom is great for catching errors\n",
    "\n",
    "from glom import GlomError, PathAccessError\n",
    "\n",
    "try:\n",
    "    glom(data2, 'a.b.c')\n",
    "except PathAccessError as e:\n",
    "    print(e)"
   ]
  },
  {
   "cell_type": "code",
   "execution_count": 34,
   "metadata": {},
   "outputs": [
    {
     "name": "stdout",
     "output_type": "stream",
     "text": [
      "could not access 'c', part 2 of Path('a', 'b', 'c'), got error: AttributeError(\"'NoneType' object has no attribute 'c'\")\n"
     ]
    }
   ],
   "source": [
    "try:\n",
    "    glom(data2, 'a.b.c')\n",
    "except AttributeError as e:\n",
    "    print(e)"
   ]
  },
  {
   "cell_type": "code",
   "execution_count": 35,
   "metadata": {},
   "outputs": [
    {
     "name": "stdout",
     "output_type": "stream",
     "text": [
      "could not access 'c', part 2 of Path('a', 'b', 'c'), got error: AttributeError(\"'NoneType' object has no attribute 'c'\")\n"
     ]
    }
   ],
   "source": [
    "try:\n",
    "    glom(data2, 'a.b.c')\n",
    "except GlomError as e:\n",
    "    print(e)"
   ]
  },
  {
   "cell_type": "markdown",
   "metadata": {},
   "source": [
    "## You can use Glom with lists"
   ]
  },
  {
   "cell_type": "code",
   "execution_count": 36,
   "metadata": {},
   "outputs": [],
   "source": [
    "data = [1, [2 , 3, 4] , 3, 4 ,5]"
   ]
  },
  {
   "cell_type": "code",
   "execution_count": 37,
   "metadata": {},
   "outputs": [
    {
     "data": {
      "text/plain": [
       "2"
      ]
     },
     "execution_count": 37,
     "metadata": {},
     "output_type": "execute_result"
    }
   ],
   "source": [
    "glom(data, '1.0')"
   ]
  },
  {
   "cell_type": "markdown",
   "metadata": {},
   "source": [
    "## You can use Glom with objects !1!!"
   ]
  },
  {
   "cell_type": "code",
   "execution_count": 41,
   "metadata": {},
   "outputs": [],
   "source": [
    "class MyClass:\n",
    "    def __init__(self):\n",
    "        self.my_hallo = \"hello!\"\n",
    "        self.my_world = \"world!\"\n",
    "       \n",
    "myvar = MyClass()        "
   ]
  },
  {
   "cell_type": "code",
   "execution_count": 42,
   "metadata": {},
   "outputs": [
    {
     "data": {
      "text/plain": [
       "'world!'"
      ]
     },
     "execution_count": 42,
     "metadata": {},
     "output_type": "execute_result"
    }
   ],
   "source": [
    "glom(myvar, 'my_world')"
   ]
  },
  {
   "cell_type": "code",
   "execution_count": null,
   "metadata": {},
   "outputs": [],
   "source": []
  },
  {
   "cell_type": "markdown",
   "metadata": {},
   "source": [
    "# 3. Target & Spec\n",
    "- the \"Target\" is the data, (list, dict, object)\n",
    "- the \"Spec\" is the wanted result"
   ]
  },
  {
   "cell_type": "code",
   "execution_count": 43,
   "metadata": {},
   "outputs": [
    {
     "data": {
      "text/plain": [
       "'jupiter'"
      ]
     },
     "execution_count": 43,
     "metadata": {},
     "output_type": "execute_result"
    }
   ],
   "source": [
    "target = {\n",
    "     'galaxy': {\n",
    "        'system': {\n",
    "            'planet': 'jupiter'\n",
    "         }\n",
    "    }\n",
    "}\n",
    "\n",
    "spec = 'galaxy.system.planet'\n",
    "\n",
    "glom(target, spec)"
   ]
  },
  {
   "cell_type": "code",
   "execution_count": 44,
   "metadata": {},
   "outputs": [
    {
     "data": {
      "text/plain": [
       "{'names': ['earth', 'jupiter'], 'moons': [1, 69]}"
      ]
     },
     "execution_count": 44,
     "metadata": {},
     "output_type": "execute_result"
    }
   ],
   "source": [
    "target = {\n",
    "    'system': {\n",
    "        'planets': [\n",
    "            {'name': 'earth', 'moons': 1},\n",
    "            {'name': 'jupiter', 'moons': 69}\n",
    "        ]\n",
    "    }\n",
    "}\n",
    "\n",
    "spec = {\n",
    "     'names': ('system.planets', ['name']),\n",
    "     'moons': ('system.planets', ['moons'])\n",
    "}\n",
    "\n",
    "glom(target, spec)"
   ]
  },
  {
   "cell_type": "code",
   "execution_count": 45,
   "metadata": {},
   "outputs": [],
   "source": [
    "target = {\n",
    "     'system': {\n",
    "         'planets': [\n",
    "            {\n",
    "                'name': 'earth',\n",
    "                'moons': [\n",
    "                    {'name': 'luna'}\n",
    "                ]\n",
    "            },\n",
    "            {\n",
    "                'name': 'jupiter',\n",
    "                'moons': [\n",
    "                    {'name': 'io'},\n",
    "                    {'name': 'europa'}\n",
    "                ]\n",
    "            }\n",
    "        ]\n",
    "    }\n",
    "}"
   ]
  },
  {
   "cell_type": "code",
   "execution_count": 46,
   "metadata": {},
   "outputs": [
    {
     "name": "stdout",
     "output_type": "stream",
     "text": [
      "{'moon_names': [['luna'], ['io', 'europa']],\n",
      " 'planet_names': ['earth', 'jupiter']}\n"
     ]
    }
   ],
   "source": [
    "\n",
    "spec = {\n",
    "    'planet_names': ('system.planets', ['name']),\n",
    "    'moon_names': ('system.planets', [('moons', ['name'],  )])\n",
    "}\n",
    "pprint(glom(target, spec))"
   ]
  },
  {
   "cell_type": "code",
   "execution_count": 48,
   "metadata": {},
   "outputs": [
    {
     "data": {
      "text/plain": [
       "{'planets': ['earth', 'jupiter'], 'moons': [1, 69]}"
      ]
     },
     "execution_count": 48,
     "metadata": {},
     "output_type": "execute_result"
    }
   ],
   "source": [
    "# Coalesce: Try the first, if it fails, try the next, and so on....\n",
    "\n",
    "from glom import Coalesce\n",
    "\n",
    "target = {\n",
    "     'system': {\n",
    "         'planets': [\n",
    "             {'name': 'earth', 'moons': 1},\n",
    "             {'name': 'jupiter', 'moons': 69}\n",
    "         ]\n",
    "     }\n",
    "}\n",
    "\n",
    "spec = {\n",
    "     'planets': (Coalesce('system.planets', 'system.dwarf_planets'), ['name']),\n",
    "     'moons': (Coalesce('system.planets', 'system.dwarf_planets'), ['moons'])\n",
    "}\n",
    "\n",
    "glom(target, spec)"
   ]
  },
  {
   "cell_type": "code",
   "execution_count": 49,
   "metadata": {},
   "outputs": [
    {
     "data": {
      "text/plain": [
       "{'planets': ['pluto', 'ceres'], 'moons': [5, 0]}"
      ]
     },
     "execution_count": 49,
     "metadata": {},
     "output_type": "execute_result"
    }
   ],
   "source": [
    "target = {\n",
    "     'system': {\n",
    "         'dwarf_planets': [\n",
    "             {'name': 'pluto', 'moons': 5},\n",
    "             {'name': 'ceres', 'moons': 0},\n",
    "         ]\n",
    "     }\n",
    " }\n",
    "glom(target, spec)"
   ]
  },
  {
   "cell_type": "code",
   "execution_count": 53,
   "metadata": {},
   "outputs": [
    {
     "name": "stdout",
     "output_type": "stream",
     "text": [
      "{'moon_count': 70}\n",
      "{'moon_count': 70}\n"
     ]
    }
   ],
   "source": [
    "# use python functions or lambdas inside the code\n",
    "\n",
    "target = {\n",
    "     'system': {\n",
    "         'planets': [\n",
    "             {'name': 'earth', 'moons': 1},\n",
    "             {'name': 'jupiter', 'moons': 69}\n",
    "         ]\n",
    "     }\n",
    "}\n",
    "\n",
    "print(glom(target, {'moon_count': ('system.planets', ['moons'], sum)}))\n",
    "    \n",
    "print(glom(target, {'moon_count': ('system.planets', ['moons'], lambda x: sum(x))}))"
   ]
  },
  {
   "cell_type": "code",
   "execution_count": 56,
   "metadata": {},
   "outputs": [],
   "source": [
    "# glom a class, subclass structure\n",
    "\n",
    "class MySubClass:\n",
    "    def __init__(self):\n",
    "        self.my_hey = \"Hey!\"\n",
    "\n",
    "class MyClass:\n",
    "    def __init__(self):\n",
    "        self.my_hello = \"hello!\"\n",
    "        self.my_world = \"world!\"\n",
    "        self.my_heylist = [MySubClass()] * 6\n",
    "\n",
    "        \n",
    "myvar = MyClass()  "
   ]
  },
  {
   "cell_type": "code",
   "execution_count": 59,
   "metadata": {},
   "outputs": [
    {
     "data": {
      "text/plain": [
       "{'hello': 'hello!',\n",
       " 'world': 'world!',\n",
       " 'heylist': ['Hey!', 'Hey!', 'Hey!', 'Hey!', 'Hey!', 'Hey!']}"
      ]
     },
     "execution_count": 59,
     "metadata": {},
     "output_type": "execute_result"
    }
   ],
   "source": [
    "from glom import Iter\n",
    "spec = {'hello': 'my_hello', 'world': 'my_world', 'heylist': ('my_heylist', ['my_hey'])}\n",
    "\n",
    "glom(myvar, spec)"
   ]
  },
  {
   "cell_type": "code",
   "execution_count": null,
   "metadata": {},
   "outputs": [],
   "source": []
  },
  {
   "cell_type": "markdown",
   "metadata": {},
   "source": [
    "# 4. Flatten and merge data\n",
    "\n",
    "Convert a list of lists & list of dicts to a list or dict"
   ]
  },
  {
   "cell_type": "code",
   "execution_count": 65,
   "metadata": {},
   "outputs": [],
   "source": [
    "from glom import Flatten, Merge"
   ]
  },
  {
   "cell_type": "code",
   "execution_count": 66,
   "metadata": {},
   "outputs": [],
   "source": [
    "data = [[1, 2], [3], [4], [], [5]]"
   ]
  },
  {
   "cell_type": "code",
   "execution_count": 67,
   "metadata": {},
   "outputs": [
    {
     "data": {
      "text/plain": [
       "[1, 2, 3, 4, 5]"
      ]
     },
     "execution_count": 67,
     "metadata": {},
     "output_type": "execute_result"
    }
   ],
   "source": [
    "glom(data, Flatten())"
   ]
  },
  {
   "cell_type": "code",
   "execution_count": 68,
   "metadata": {},
   "outputs": [],
   "source": [
    "data = [{'hello': 'world'}, {'hello2': 'world2'}]"
   ]
  },
  {
   "cell_type": "code",
   "execution_count": 69,
   "metadata": {},
   "outputs": [
    {
     "data": {
      "text/plain": [
       "{'hello': 'world', 'hello2': 'world2'}"
      ]
     },
     "execution_count": 69,
     "metadata": {},
     "output_type": "execute_result"
    }
   ],
   "source": [
    "glom(data, Merge())"
   ]
  },
  {
   "cell_type": "code",
   "execution_count": null,
   "metadata": {},
   "outputs": [],
   "source": []
  },
  {
   "cell_type": "markdown",
   "metadata": {},
   "source": [
    "# 5. from the tutorial: Convert objects into output.\n",
    "\n",
    "This shows a more complicated example on how nested class objects are converted.\n",
    "Read the official tutorial on what happens here."
   ]
  },
  {
   "cell_type": "code",
   "execution_count": 70,
   "metadata": {},
   "outputs": [],
   "source": [
    "from glom.tutorial import * "
   ]
  },
  {
   "cell_type": "code",
   "execution_count": 71,
   "metadata": {},
   "outputs": [],
   "source": [
    "contact = Contact('Julian',\n",
    "          emails=[Email(email='jlahey@svtp.info')],\n",
    "                  location='Canada')"
   ]
  },
  {
   "cell_type": "code",
   "execution_count": 72,
   "metadata": {},
   "outputs": [],
   "source": [
    "contact.save()"
   ]
  },
  {
   "cell_type": "code",
   "execution_count": 73,
   "metadata": {},
   "outputs": [
    {
     "data": {
      "text/plain": [
       "Email(id=5, email='jlahey@svtp.info', email_type='personal')"
      ]
     },
     "execution_count": 73,
     "metadata": {},
     "output_type": "execute_result"
    }
   ],
   "source": [
    "contact.primary_email"
   ]
  },
  {
   "cell_type": "code",
   "execution_count": 74,
   "metadata": {},
   "outputs": [
    {
     "data": {
      "text/plain": [
       "datetime.datetime(2020, 7, 29, 16, 23, 45, 779009)"
      ]
     },
     "execution_count": 74,
     "metadata": {},
     "output_type": "execute_result"
    }
   ],
   "source": [
    "contact.add_date"
   ]
  },
  {
   "cell_type": "code",
   "execution_count": 75,
   "metadata": {},
   "outputs": [
    {
     "data": {
      "text/plain": [
       "5"
      ]
     },
     "execution_count": 75,
     "metadata": {},
     "output_type": "execute_result"
    }
   ],
   "source": [
    "contact.id"
   ]
  },
  {
   "cell_type": "code",
   "execution_count": 76,
   "metadata": {},
   "outputs": [
    {
     "data": {
      "text/plain": [
       "5"
      ]
     },
     "execution_count": 76,
     "metadata": {},
     "output_type": "execute_result"
    }
   ],
   "source": [
    "len(Contact.objects.all())"
   ]
  },
  {
   "cell_type": "code",
   "execution_count": 77,
   "metadata": {},
   "outputs": [
    {
     "data": {
      "text/plain": [
       "[Contact(id=1, name='Kurt', pref_name='', emails=[Email(id=1, email='kurt@example.com', email_type='personal')], primary_email=Email(id=1, email='kurt@example.com', email_type='personal'), company='', location='Mountain View', add_date=datetime.datetime(2020, 7, 29, 16, 23, 45, 660002)),\n",
       " Contact(id=2, name='Sean', pref_name='', emails=[Email(id=2, email='seanboy@example.com', email_type='personal')], primary_email=Email(id=2, email='seanboy@example.com', email_type='personal'), company='D & D Mastering', location='San Jose', add_date=datetime.datetime(2020, 7, 29, 16, 23, 45, 660002)),\n",
       " Contact(id=3, name='Matt', pref_name='', emails=[Email(id=3, email='mixtape@homemakelabs.com', email_type='work'), Email(id=4, email='matt@example.com', email_type='personal')], primary_email=Email(id=3, email='mixtape@homemakelabs.com', email_type='work'), company='HomeMake Labs', location='', add_date=datetime.datetime(2020, 7, 29, 16, 23, 45, 660002)),\n",
       " Contact(id=4, name='Julian', pref_name='', emails=[], primary_email=None, company='', location='Sunnyvale Trailer Park', add_date=datetime.datetime(2020, 7, 29, 16, 23, 45, 660002)),\n",
       " Contact(id=5, name='Julian', pref_name='', emails=[Email(id=5, email='jlahey@svtp.info', email_type='personal')], primary_email=Email(id=5, email='jlahey@svtp.info', email_type='personal'), company='', location='Canada', add_date=datetime.datetime(2020, 7, 29, 16, 23, 45, 779009))]"
      ]
     },
     "execution_count": 77,
     "metadata": {},
     "output_type": "execute_result"
    }
   ],
   "source": [
    "Contact.objects.all()"
   ]
  },
  {
   "cell_type": "code",
   "execution_count": 78,
   "metadata": {},
   "outputs": [
    {
     "ename": "TypeError",
     "evalue": "Object of type Contact is not JSON serializable",
     "output_type": "error",
     "traceback": [
      "\u001b[1;31mTypeError\u001b[0m\u001b[1;31m:\u001b[0m Object of type Contact is not JSON serializable\n"
     ]
    }
   ],
   "source": [
    "# without Glom: You can't dump the object to json\n",
    "\n",
    "json.dumps(Contact.objects.all())"
   ]
  },
  {
   "cell_type": "code",
   "execution_count": 80,
   "metadata": {},
   "outputs": [],
   "source": [
    "target = Contact.objects.all()"
   ]
  },
  {
   "cell_type": "code",
   "execution_count": 81,
   "metadata": {},
   "outputs": [
    {
     "data": {
      "text/plain": [
       "datetime.datetime(2020, 7, 29, 16, 23, 45, 660002)"
      ]
     },
     "execution_count": 81,
     "metadata": {},
     "output_type": "execute_result"
    }
   ],
   "source": [
    "# have a look at the data type of the \"add_date\" - this is not dumpable\n",
    "target[0].add_date"
   ]
  },
  {
   "cell_type": "code",
   "execution_count": 85,
   "metadata": {},
   "outputs": [],
   "source": [
    "# Note: In this spec, the datetime and integers are converted to string.\n",
    "\n",
    "spec = {'results': [{'id': 'id',\n",
    "                      'name': 'name',\n",
    "                      'add_date': ('add_date', str),\n",
    "                      'emails': ('emails', [{'id': 'id',\n",
    "                                            'email': 'email',\n",
    "                                            'type': 'email_type'}]),\n",
    "                      'primary_email': Coalesce('primary_email.email', default=None),\n",
    "                      'pref_name': Coalesce('pref_name', 'name', skip='', default=''),\n",
    "                      'detail': Coalesce('company',\n",
    "                                         'location',\n",
    "                                         ('add_date.year', str),\n",
    "                                         skip='', default='')}]}"
   ]
  },
  {
   "cell_type": "code",
   "execution_count": 88,
   "metadata": {},
   "outputs": [
    {
     "name": "stdout",
     "output_type": "stream",
     "text": [
      "{\n",
      "  \"results\": [\n",
      "    {\n",
      "      \"add_date\": \"2020-07-29 16:23:45.660002\",\n",
      "      \"detail\": \"Mountain View\",\n",
      "      \"emails\": [\n",
      "        {\n",
      "          \"email\": \"kurt@example.com\",\n",
      "          \"id\": 1,\n",
      "          \"type\": \"personal\"\n",
      "        }\n",
      "      ],\n",
      "      \"id\": 1,\n",
      "      \"name\": \"Kurt\",\n",
      "      \"pref_name\": \"Kurt\",\n",
      "      \"primary_email\": \"kurt@example.com\"\n",
      "    },\n",
      "    {\n",
      "      \"add_date\": \"2020-07-29 16:23:45.660002\",\n",
      "      \"detail\": \"D & D Mastering\",\n",
      "      \"emails\": [\n",
      "        {\n",
      "          \"email\": \"seanboy@example.com\",\n",
      "          \"id\": 2,\n",
      "          \"type\": \"personal\"\n",
      "        }\n",
      "      ],\n",
      "      \"id\": 2,\n",
      "      \"name\": \"Sean\",\n",
      "      \"pref_name\": \"Sean\",\n",
      "      \"primary_email\": \"seanboy@example.com\"\n",
      "    },\n",
      "    {\n",
      "      \"add_date\": \"2020-07-29 16:23:45.660002\",\n",
      "      \"detail\": \"HomeMake Labs\",\n",
      "      \"emails\": [\n",
      "        {\n",
      "          \"email\": \"mixtape@homemakelabs.com\",\n",
      "          \"id\": 3,\n",
      "          \"type\": \"work\"\n",
      "        },\n",
      "        {\n",
      "          \"email\": \"matt@example.com\",\n",
      "          \"id\": 4,\n",
      "          \"type\": \"personal\"\n",
      "        }\n",
      "      ],\n",
      "      \"id\": 3,\n",
      "      \"name\": \"Matt\",\n",
      "      \"pref_name\": \"Matt\",\n",
      "      \"primary_email\": \"mixtape@homemakelabs.com\"\n",
      "    },\n",
      "    {\n",
      "      \"add_date\": \"2020-07-29 16:23:45.660002\",\n",
      "      \"detail\": \"Sunnyvale Trailer Park\",\n",
      "      \"emails\": [],\n",
      "      \"id\": 4,\n",
      "      \"name\": \"Julian\",\n",
      "      \"pref_name\": \"Julian\",\n",
      "      \"primary_email\": null\n",
      "    },\n",
      "    {\n",
      "      \"add_date\": \"2020-07-29 16:23:45.779009\",\n",
      "      \"detail\": \"Canada\",\n",
      "      \"emails\": [\n",
      "        {\n",
      "          \"email\": \"jlahey@svtp.info\",\n",
      "          \"id\": 5,\n",
      "          \"type\": \"personal\"\n",
      "        }\n",
      "      ],\n",
      "      \"id\": 5,\n",
      "      \"name\": \"Julian\",\n",
      "      \"pref_name\": \"Julian\",\n",
      "      \"primary_email\": \"jlahey@svtp.info\"\n",
      "    }\n",
      "  ]\n",
      "}\n"
     ]
    }
   ],
   "source": [
    "# with Glom: convert your target to somethin you can dump\n",
    "\n",
    "resp = glom(target, spec)\n",
    "print(json.dumps(resp, indent=2, sort_keys=True))"
   ]
  },
  {
   "cell_type": "code",
   "execution_count": 91,
   "metadata": {},
   "outputs": [
    {
     "data": {
      "text/plain": [
       "['kurt@example.com',\n",
       " 'seanboy@example.com',\n",
       " 'mixtape@homemakelabs.com',\n",
       " 'matt@example.com',\n",
       " 'jlahey@svtp.info']"
      ]
     },
     "execution_count": 91,
     "metadata": {},
     "output_type": "execute_result"
    }
   ],
   "source": [
    "# This is the Flatten command from the previous section, used to get all emails in the result\n",
    "\n",
    "from glom import Flatten\n",
    "\n",
    "glom(resp, ('results', ['emails'],\n",
    "             Flatten(),\n",
    "             ['email'],\n",
    "           )\n",
    "    )\n"
   ]
  },
  {
   "cell_type": "code",
   "execution_count": null,
   "metadata": {},
   "outputs": [],
   "source": []
  },
  {
   "cell_type": "markdown",
   "metadata": {},
   "source": [
    "# 6. \"T\" - the Stunt-Double\n",
    "\n",
    "T in the spect is a stand in for anything at that position in the spec.\n",
    "It behaves like the python object it matches. \n",
    "\n",
    "In the first example,\n",
    "it behaves like a list, so T[0] is the first list object"
   ]
  },
  {
   "cell_type": "code",
   "execution_count": 92,
   "metadata": {},
   "outputs": [],
   "source": [
    "from glom import T"
   ]
  },
  {
   "cell_type": "code",
   "execution_count": 93,
   "metadata": {},
   "outputs": [
    {
     "data": {
      "text/plain": [
       "{'id': 1,\n",
       " 'name': 'Kurt',\n",
       " 'add_date': '2020-07-29 16:23:45.660002',\n",
       " 'emails': [{'id': 1, 'email': 'kurt@example.com', 'type': 'personal'}],\n",
       " 'primary_email': 'kurt@example.com',\n",
       " 'pref_name': 'Kurt',\n",
       " 'detail': 'Mountain View'}"
      ]
     },
     "execution_count": 93,
     "metadata": {},
     "output_type": "execute_result"
    }
   ],
   "source": [
    "from glom import T, Flatten\n",
    "# from the data structure above, show the first entry\n",
    "glom(resp, ('results', T[0]))"
   ]
  },
  {
   "cell_type": "markdown",
   "metadata": {},
   "source": [
    "T also works with Objects. Very nice for Namedtuples.\n",
    "\n"
   ]
  },
  {
   "cell_type": "code",
   "execution_count": 95,
   "metadata": {},
   "outputs": [],
   "source": [
    "from collections import namedtuple\n",
    "HelloWorld = namedtuple('HelloWord','hello,world')\n",
    "hw = HelloWorld('hello!', 'world!')"
   ]
  },
  {
   "cell_type": "code",
   "execution_count": 96,
   "metadata": {},
   "outputs": [
    {
     "data": {
      "text/plain": [
       "'hello!'"
      ]
     },
     "execution_count": 96,
     "metadata": {},
     "output_type": "execute_result"
    }
   ],
   "source": [
    "glom(hw, T.hello)"
   ]
  },
  {
   "cell_type": "code",
   "execution_count": 97,
   "metadata": {},
   "outputs": [
    {
     "data": {
      "text/plain": [
       "'hello!'"
      ]
     },
     "execution_count": 97,
     "metadata": {},
     "output_type": "execute_result"
    }
   ],
   "source": [
    "glom(hw, (T._asdict(), 'hello'))"
   ]
  },
  {
   "cell_type": "code",
   "execution_count": null,
   "metadata": {},
   "outputs": [],
   "source": []
  },
  {
   "cell_type": "markdown",
   "metadata": {},
   "source": [
    "# 7. Let's loop with Iter"
   ]
  },
  {
   "cell_type": "code",
   "execution_count": 103,
   "metadata": {},
   "outputs": [],
   "source": [
    "# let's prepare a list of the Seven Dwarfs\n",
    "\n",
    "from glom import glom, Iter\n",
    "\n",
    "target = [\n",
    "    'Happy',\n",
    "    'Sneezy',\n",
    "    'Sleepy',\n",
    "    'Doc',\n",
    "    'Bashful',\n",
    "    'Grumpy',\n",
    "    'Dopey'\n",
    "]"
   ]
  },
  {
   "cell_type": "code",
   "execution_count": 104,
   "metadata": {},
   "outputs": [
    {
     "data": {
      "text/plain": [
       "<generator object Iter._iterate at 0x00000000053F52E0>"
      ]
     },
     "execution_count": 104,
     "metadata": {},
     "output_type": "execute_result"
    }
   ],
   "source": [
    "# Iter returns a generator type\n",
    "spec = Iter()\n",
    "glom(target, spec)"
   ]
  },
  {
   "cell_type": "code",
   "execution_count": 105,
   "metadata": {},
   "outputs": [
    {
     "data": {
      "text/plain": [
       "['Happy', 'Sneezy', 'Sleepy', 'Doc', 'Bashful', 'Grumpy', 'Dopey']"
      ]
     },
     "execution_count": 105,
     "metadata": {},
     "output_type": "execute_result"
    }
   ],
   "source": [
    "# Convert the generator into a list with \".all\"\n",
    "spec = Iter().all()\n",
    "glom(target, spec)"
   ]
  },
  {
   "cell_type": "code",
   "execution_count": 106,
   "metadata": {},
   "outputs": [
    {
     "data": {
      "text/plain": [
       "[['Happy', 'Sneezy'],\n",
       " ['Sleepy', 'Doc'],\n",
       " ['Bashful', 'Grumpy'],\n",
       " ['Dopey', 'Snow White']]"
      ]
     },
     "execution_count": 106,
     "metadata": {},
     "output_type": "execute_result"
    }
   ],
   "source": [
    "# Chunk the group in teams of 2\n",
    "spec = Iter().chunked(2, fill='Snow White').all()\n",
    "glom(target, spec)"
   ]
  },
  {
   "cell_type": "code",
   "execution_count": 108,
   "metadata": {},
   "outputs": [
    {
     "data": {
      "text/plain": [
       "['Happy', 'Sneezy', 'Sleepy', 'Bashful', 'Grumpy', 'Dopey']"
      ]
     },
     "execution_count": 108,
     "metadata": {},
     "output_type": "execute_result"
    }
   ],
   "source": [
    "# Find any dwarf that's not doc with a lambda\n",
    "spec = Iter().filter(lambda x: x != 'Doc').all()\n",
    "glom(target, spec)"
   ]
  },
  {
   "cell_type": "code",
   "execution_count": 109,
   "metadata": {},
   "outputs": [
    {
     "data": {
      "text/plain": [
       "['Happy', 'Sneezy', 'Sleepy']"
      ]
     },
     "execution_count": 109,
     "metadata": {},
     "output_type": "execute_result"
    }
   ],
   "source": [
    "# Hey, 3 dwarfs maximum!\n",
    "spec = Iter().limit(3).all()\n",
    "glom(target, spec)"
   ]
  },
  {
   "cell_type": "code",
   "execution_count": 110,
   "metadata": {},
   "outputs": [
    {
     "data": {
      "text/plain": [
       "['Sneezy', 'Sleepy', 'Doc']"
      ]
     },
     "execution_count": 110,
     "metadata": {},
     "output_type": "execute_result"
    }
   ],
   "source": [
    "# Find dwarfs 2 - 4 in this 0-based list\n",
    "spec = Iter().slice(1, 4).all()\n",
    "glom(target, spec)"
   ]
  },
  {
   "cell_type": "code",
   "execution_count": 111,
   "metadata": {},
   "outputs": [
    {
     "data": {
      "text/plain": [
       "['Happy', 'Sneezy', 'Doc', 'Bashful', 'Grumpy']"
      ]
     },
     "execution_count": 111,
     "metadata": {},
     "output_type": "execute_result"
    }
   ],
   "source": [
    "# Only show dwarfs with unique first letters in the names\n",
    "spec = Iter().unique(T[0]).all()\n",
    "glom(target, spec)"
   ]
  },
  {
   "cell_type": "code",
   "execution_count": 113,
   "metadata": {},
   "outputs": [
    {
     "data": {
      "text/plain": [
       "['Happy', 'Sneezy', 'Sleepy']"
      ]
     },
     "execution_count": 113,
     "metadata": {},
     "output_type": "execute_result"
    }
   ],
   "source": [
    "# Take dwarfs until Doc arrives\n",
    "spec = Iter().takewhile(lambda x: x != 'Doc').all()\n",
    "glom(target, spec)"
   ]
  },
  {
   "cell_type": "code",
   "execution_count": 114,
   "metadata": {},
   "outputs": [],
   "source": [
    "# Show the first dwarf following Doc\n",
    "spec = Iter().dropwhile(lambda x: x != 'Chef').slice(1, 2).first()\n",
    "glom(target, spec)"
   ]
  },
  {
   "cell_type": "code",
   "execution_count": 116,
   "metadata": {},
   "outputs": [
    {
     "data": {
      "text/plain": [
       "[['Happy', 'Sneezy', 'Sleepy'], ['Bashful', 'Grumpy', 'Dopey']]"
      ]
     },
     "execution_count": 116,
     "metadata": {},
     "output_type": "execute_result"
    }
   ],
   "source": [
    "# Split the group around Doc\n",
    "spec = Iter().split('Doc').all() \n",
    "glom(target, spec)"
   ]
  },
  {
   "cell_type": "code",
   "execution_count": 117,
   "metadata": {},
   "outputs": [
    {
     "data": {
      "text/plain": [
       "['happy', 'sneezy', 'sleepy', 'doc', 'bashful', 'grumpy', 'dopey']"
      ]
     },
     "execution_count": 117,
     "metadata": {},
     "output_type": "execute_result"
    }
   ],
   "source": [
    "# Use a function on all\n",
    "spec = Iter().map(lambda x:x.lower()).all()\n",
    "glom(target, spec)\n"
   ]
  },
  {
   "cell_type": "code",
   "execution_count": 118,
   "metadata": {},
   "outputs": [
    {
     "data": {
      "text/plain": [
       "['HAPPY', 'SNEEZY', 'SLEEPY', 'DOC', 'BASHFUL', 'GRUMPY', 'DOPEY']"
      ]
     },
     "execution_count": 118,
     "metadata": {},
     "output_type": "execute_result"
    }
   ],
   "source": [
    "# or instead of lambda, the stunt double T\n",
    "spec = Iter().map(T.upper()).all()\n",
    "glom(target, spec)"
   ]
  },
  {
   "cell_type": "code",
   "execution_count": null,
   "metadata": {},
   "outputs": [],
   "source": []
  },
  {
   "cell_type": "markdown",
   "metadata": {},
   "source": [
    "# 8. Literal - assign a fixed value"
   ]
  },
  {
   "cell_type": "code",
   "execution_count": 119,
   "metadata": {},
   "outputs": [],
   "source": [
    "from glom import Literal\n",
    "spec = Iter({'Name': T, 'Size': Literal('Dwarflike')}).all()"
   ]
  },
  {
   "cell_type": "code",
   "execution_count": 120,
   "metadata": {},
   "outputs": [
    {
     "data": {
      "text/plain": [
       "[{'Name': 'Happy', 'Size': 'Dwarflike'},\n",
       " {'Name': 'Sneezy', 'Size': 'Dwarflike'},\n",
       " {'Name': 'Sleepy', 'Size': 'Dwarflike'},\n",
       " {'Name': 'Doc', 'Size': 'Dwarflike'},\n",
       " {'Name': 'Bashful', 'Size': 'Dwarflike'},\n",
       " {'Name': 'Grumpy', 'Size': 'Dwarflike'},\n",
       " {'Name': 'Dopey', 'Size': 'Dwarflike'}]"
      ]
     },
     "execution_count": 120,
     "metadata": {},
     "output_type": "execute_result"
    }
   ],
   "source": [
    "glom(target, spec)"
   ]
  },
  {
   "cell_type": "code",
   "execution_count": null,
   "metadata": {},
   "outputs": [],
   "source": []
  },
  {
   "cell_type": "markdown",
   "metadata": {},
   "source": [
    "# 9. Data Driven\n",
    "\n",
    "What to do, if a dictionary key has the data"
   ]
  },
  {
   "cell_type": "code",
   "execution_count": 121,
   "metadata": {},
   "outputs": [
    {
     "data": {
      "text/plain": [
       "{'moons': {'pluto': 6, 'venus': 0, 'earth': 1}}"
      ]
     },
     "execution_count": 121,
     "metadata": {},
     "output_type": "execute_result"
    }
   ],
   "source": [
    "from glom import glom, T, Merge, Iter, Coalesce\n",
    "\n",
    "target = {\n",
    "    \"pluto\": {\"moons\": 6, \"population\": None},\n",
    "    \"venus\": {\"population\": {\"aliens\": 5}},\n",
    "    \"earth\": {\"moons\": 1, \"population\": {\"humans\": 7_700_000_000, \"aliens\": 1}},\n",
    "}\n",
    "\n",
    "spec = {\n",
    "    \"moons\": (\n",
    "           T.items(),\n",
    "           Iter({T[0]: (T[1], Coalesce(\"moons\", default=0))}),\n",
    "           Merge()\n",
    "    )\n",
    "}\n",
    "        \n",
    "glom(target, spec)        "
   ]
  },
  {
   "cell_type": "code",
   "execution_count": null,
   "metadata": {},
   "outputs": [],
   "source": []
  },
  {
   "cell_type": "markdown",
   "metadata": {},
   "source": [
    "# 10. Add and remove values\n"
   ]
  },
  {
   "cell_type": "code",
   "execution_count": 122,
   "metadata": {},
   "outputs": [],
   "source": [
    "data = {'moons': {'pluto': 6, 'venus': 0, 'earth': 1}}"
   ]
  },
  {
   "cell_type": "code",
   "execution_count": 123,
   "metadata": {},
   "outputs": [],
   "source": [
    "from glom import Assign, Delete\n",
    "spec = Assign('moons.saturn', 7)"
   ]
  },
  {
   "cell_type": "code",
   "execution_count": 124,
   "metadata": {},
   "outputs": [
    {
     "data": {
      "text/plain": [
       "{'moons': {'pluto': 6, 'venus': 0, 'earth': 1, 'saturn': 7}}"
      ]
     },
     "execution_count": 124,
     "metadata": {},
     "output_type": "execute_result"
    }
   ],
   "source": [
    "glom(data, spec)"
   ]
  },
  {
   "cell_type": "code",
   "execution_count": 125,
   "metadata": {},
   "outputs": [],
   "source": [
    "spec = Delete('moons.earth')"
   ]
  },
  {
   "cell_type": "code",
   "execution_count": 126,
   "metadata": {},
   "outputs": [
    {
     "data": {
      "text/plain": [
       "{'moons': {'pluto': 6, 'venus': 0, 'saturn': 7}}"
      ]
     },
     "execution_count": 126,
     "metadata": {},
     "output_type": "execute_result"
    }
   ],
   "source": [
    "glom(data, spec)"
   ]
  },
  {
   "cell_type": "code",
   "execution_count": 127,
   "metadata": {},
   "outputs": [
    {
     "data": {
      "text/plain": [
       "{'moons': {'pluto': 6, 'venus': 0, 'saturn': 7}}"
      ]
     },
     "execution_count": 127,
     "metadata": {},
     "output_type": "execute_result"
    }
   ],
   "source": [
    "spec = Delete('moons.mars', ignore_missing=True)\n",
    "\n",
    "glom(data, spec)\n"
   ]
  },
  {
   "cell_type": "code",
   "execution_count": null,
   "metadata": {},
   "outputs": [],
   "source": []
  },
  {
   "cell_type": "markdown",
   "metadata": {},
   "source": [
    "# 11. Scope / Let\n",
    "\n",
    "Scope allows you to collect data which would otherwise not be accessable from within a spec.\n",
    "\n",
    "This is nice if you want to move data inside each element to get a flat structure you can import into a pandas Dataframe"
   ]
  },
  {
   "cell_type": "code",
   "execution_count": 131,
   "metadata": {},
   "outputs": [
    {
     "data": {
      "text/plain": [
       "[{'name': 'A', 'id': 'A1', 'date': '2020-04-01', 'location': 'A'},\n",
       " {'name': 'B', 'id': 'B1', 'date': '2020-04-01', 'location': 'A'},\n",
       " {'name': 'C', 'id': 'C1', 'date': '2020-04-01', 'location': 'A'}]"
      ]
     },
     "execution_count": 131,
     "metadata": {},
     "output_type": "execute_result"
    }
   ],
   "source": [
    "from glom import S, glom, Assign, Spec\n",
    "\n",
    "target = {'date': '2020-04-01',\n",
    " 'location': 'A',\n",
    " 'items': [\n",
    "     {'name': 'A', 'id': 'A1'},\n",
    "     {'name': 'B', 'id': 'B1'},\n",
    "     {'name': 'C', 'id': 'C1'}\n",
    "]}\n",
    "\n",
    "spec = ('items', \n",
    "        [Assign('date', Spec(S['date']))], \n",
    "        [Assign('location', Spec(S['location']))]\n",
    "       )\n",
    "\n",
    "glom(target, spec, scope=target)"
   ]
  },
  {
   "cell_type": "markdown",
   "metadata": {},
   "source": [
    "The same example with let:\n",
    "Let writes to the scope at runtime.\n"
   ]
  },
  {
   "cell_type": "code",
   "execution_count": 132,
   "metadata": {},
   "outputs": [
    {
     "data": {
      "text/plain": [
       "[{'name': 'A', 'id': 'A1', 'date': '2020-04-01', 'location': 'A'},\n",
       " {'name': 'B', 'id': 'B1', 'date': '2020-04-01', 'location': 'A'},\n",
       " {'name': 'C', 'id': 'C1', 'date': '2020-04-01', 'location': 'A'}]"
      ]
     },
     "execution_count": 132,
     "metadata": {},
     "output_type": "execute_result"
    }
   ],
   "source": [
    "from glom import Fill\n",
    "from glom.core import Let\n",
    "\n",
    "spec = (\n",
    "    # Write outer value to scope\n",
    "    Let(base={\"date\": \"date\", \"location\": \"location\"}),\n",
    "    # select just the items\n",
    "    \"items\",\n",
    "    [\n",
    "        # for every element: add base to element\n",
    "        (Fill([T, S[\"base\"]]), Merge())\n",
    "    ]\n",
    ")\n",
    "\n",
    "glom(target, spec, scope=target)\n"
   ]
  },
  {
   "cell_type": "code",
   "execution_count": null,
   "metadata": {},
   "outputs": [],
   "source": []
  },
  {
   "cell_type": "markdown",
   "metadata": {},
   "source": [
    "# 12. XML\n",
    "\n",
    "Simple example on how to glom XML"
   ]
  },
  {
   "cell_type": "code",
   "execution_count": 138,
   "metadata": {},
   "outputs": [],
   "source": [
    "from glom import Ref"
   ]
  },
  {
   "cell_type": "code",
   "execution_count": 139,
   "metadata": {},
   "outputs": [],
   "source": [
    "etree2dicts = Ref('ElementTree',\n",
    "    {\"tag\": \"tag\", \n",
    "     \"text\": \"text\", \n",
    "     \"attrib\": \"attrib\", \n",
    "     \"children\": (iter, [Ref('ElementTree')])})"
   ]
  },
  {
   "cell_type": "code",
   "execution_count": 140,
   "metadata": {},
   "outputs": [],
   "source": [
    "html_text = \"\"\"<html>\n",
    "  <head>\n",
    "    <title>the title</title>\n",
    "  </head>\n",
    "  <body id=\"the-body\">\n",
    "    <p>A paragraph</p>\n",
    "  </body>\n",
    "</html>\"\"\""
   ]
  },
  {
   "cell_type": "code",
   "execution_count": 141,
   "metadata": {},
   "outputs": [],
   "source": [
    "from xml.etree import ElementTree\n",
    "etree = ElementTree.fromstring(html_text)"
   ]
  },
  {
   "cell_type": "code",
   "execution_count": 142,
   "metadata": {},
   "outputs": [
    {
     "data": {
      "text/plain": [
       "{'tag': 'html',\n",
       " 'text': '\\n  ',\n",
       " 'attrib': {},\n",
       " 'children': [{'tag': 'head',\n",
       "   'text': '\\n    ',\n",
       "   'attrib': {},\n",
       "   'children': [{'tag': 'title',\n",
       "     'text': 'the title',\n",
       "     'attrib': {},\n",
       "     'children': []}]},\n",
       "  {'tag': 'body',\n",
       "   'text': '\\n    ',\n",
       "   'attrib': {'id': 'the-body'},\n",
       "   'children': [{'tag': 'p',\n",
       "     'text': 'A paragraph',\n",
       "     'attrib': {},\n",
       "     'children': []}]}]}"
      ]
     },
     "execution_count": 142,
     "metadata": {},
     "output_type": "execute_result"
    }
   ],
   "source": [
    "glom(etree, etree2dicts)"
   ]
  },
  {
   "cell_type": "code",
   "execution_count": null,
   "metadata": {},
   "outputs": [],
   "source": []
  },
  {
   "cell_type": "markdown",
   "metadata": {},
   "source": [
    "# 13. Out of time...\n",
    "\n",
    "other things worth taking a look at.\n",
    "\n",
    "- Path (A special Path notation for edge cases, where strings don't work)\n",
    "- Invoke / Call (Use a function)\n",
    "- Check -> CheckError (Check for Data consistency!)\n",
    "- Inspect (Debugging helper: Print out whats visible inside the spec)  \n",
    "\n",
    "\n"
   ]
  },
  {
   "cell_type": "code",
   "execution_count": null,
   "metadata": {},
   "outputs": [],
   "source": []
  },
  {
   "cell_type": "markdown",
   "metadata": {},
   "source": [
    "# 14. Glom, Comments and the code formatter \"Black\"\n",
    "\n",
    "If you use Black on your code (https://pypi.org/project/black/), black may\n",
    "make your glom spec a lot harder to read.\n",
    "\n",
    "If your spec is somewhat complicated, add comments to it.\n",
    "\n",
    "The above used example still works with comments inside\n",
    "\n",
    "    spec = (\n",
    "        # Write outer value to scope\n",
    "        Let(base={\"date\": \"date\", \"location\": \"location\"}),\n",
    "\n",
    "        # select just the items\n",
    "        \"items\",\n",
    "        [\n",
    "            # for every element: add base to element\n",
    "            (Fill([T, S[\"base\"]]), Merge())\n",
    "        ]\n",
    "    )\n",
    "\n",
    "Without comments, Black will try to save space.\n",
    "\n",
    "    spec = (\n",
    "        Let(base={\"date\": \"date\", \"location\": \"location\"}),\n",
    "        \"items\",\n",
    "        [(Fill([T, S[\"base\"]]), Merge())],\n",
    "    )\n",
    "\n"
   ]
  },
  {
   "cell_type": "code",
   "execution_count": null,
   "metadata": {},
   "outputs": [],
   "source": []
  },
  {
   "cell_type": "markdown",
   "metadata": {},
   "source": [
    "# Practice exercises\n",
    "\n",
    "### Exercise 1: \n",
    "\n",
    "Take the pythoncamp room list at http://borus.de/pythoncamp/event.json Create a dictionary that has all room names in capital letters as a key and the url as a value,.\n",
    "\n",
    "Wanted result\n",
    "\n",
    "    {\n",
    "     'BERLIN': 'https://bbb01.pythoncamp.online/b/rei-hyz-cgm',\n",
    "     'FLIEGENDER ZIRKUS': 'https://bbb01.pythoncamp.online/b/rei-hyz-cgm',\n",
    "     'TOKIO': 'https://bbb01.pythoncamp.online/b/rei-hyz-cgm'\n",
    "     ...\n",
    "     }"
   ]
  },
  {
   "cell_type": "code",
   "execution_count": 143,
   "metadata": {},
   "outputs": [],
   "source": [
    "import requests"
   ]
  },
  {
   "cell_type": "code",
   "execution_count": 144,
   "metadata": {},
   "outputs": [],
   "source": [
    "r = requests.get(r'http://borus.de/pythoncamp/event.json')"
   ]
  },
  {
   "cell_type": "code",
   "execution_count": 145,
   "metadata": {},
   "outputs": [
    {
     "data": {
      "text/plain": [
       "{'event': 'pythoncamp 2020',\n",
       " 'update': '2020-04-17 23:23:00',\n",
       " 'rooms': [{'name': 'Berlin',\n",
       "   'url': 'https://bbb01.pythoncamp.online/b/rei-hyz-cgm',\n",
       "   'access_code': '12345'},\n",
       "  {'name': 'Fliegender Zirkus',\n",
       "   'url': 'https://bbb01.pythoncamp.online/b/rei-hyz-cgm',\n",
       "   'access_code': '12345'},\n",
       "  {'name': 'London',\n",
       "   'url': 'https://bbb01.pythoncamp.online/b/rei-hyz-cgm',\n",
       "   'access_code': '12345'},\n",
       "  {'name': 'New York',\n",
       "   'url': 'https://bbb01.pythoncamp.online/b/rei-hyz-cgm',\n",
       "   'access_code': '12345'},\n",
       "  {'name': 'Paris',\n",
       "   'url': 'https://bbb01.pythoncamp.online/b/rei-hyz-cgm',\n",
       "   'access_code': '12345'},\n",
       "  {'name': 'Plenum',\n",
       "   'url': 'https://bbb01.pythoncamp.online/b/rei-hyz-cgm',\n",
       "   'access_code': '12345'},\n",
       "  {'name': 'Ritter der Kokosnuss',\n",
       "   'url': 'https://bbb01.pythoncamp.online/b/rei-hyz-cgm',\n",
       "   'access_code': '12345'},\n",
       "  {'name': 'Rom',\n",
       "   'url': 'https://bbb01.pythoncamp.online/b/rei-hyz-cgm',\n",
       "   'access_code': '12345'},\n",
       "  {'name': 'Spamalot',\n",
       "   'url': 'https://bbb01.pythoncamp.online/b/rei-hyz-cgm',\n",
       "   'access_code': '12345'},\n",
       "  {'name': 'Tokio',\n",
       "   'url': 'https://bbb01.pythoncamp.online/b/rei-hyz-cgm',\n",
       "   'access_code': '12345'}]}"
      ]
     },
     "execution_count": 145,
     "metadata": {},
     "output_type": "execute_result"
    }
   ],
   "source": [
    "r.json()"
   ]
  },
  {
   "cell_type": "code",
   "execution_count": 146,
   "metadata": {},
   "outputs": [],
   "source": [
    "# write spec here\n",
    "spec = \"... ?\""
   ]
  },
  {
   "cell_type": "code",
   "execution_count": 147,
   "metadata": {
    "collapsed": true,
    "jupyter": {
     "outputs_hidden": true
    }
   },
   "outputs": [
    {
     "name": "stderr",
     "output_type": "stream",
     "text": [
      "ERROR:root:Internal Python error in the inspect module.\n",
      "Below is the traceback from this internal error.\n",
      "\n"
     ]
    },
    {
     "name": "stdout",
     "output_type": "stream",
     "text": [
      "Traceback (most recent call last):\n",
      "  File \"c:\\users\\martin\\src\\glom\\glom\\core.py\", line 1212, in _t_eval\n",
      "    cur = get(cur, arg)\n",
      "KeyError: ''\n",
      "\n",
      "During handling of the above exception, another exception occurred:\n",
      "\n",
      "Traceback (most recent call last):\n",
      "  File \"C:\\Python38\\lib\\site-packages\\IPython\\core\\interactiveshell.py\", line 3331, in run_code\n",
      "    exec(code_obj, self.user_global_ns, self.user_ns)\n",
      "  File \"<ipython-input-147-7583fad57d0a>\", line 1, in <module>\n",
      "    glom(r.json(), spec)\n",
      "  File \"c:\\users\\martin\\src\\glom\\glom\\core.py\", line 1827, in glom\n",
      "    ret = _glom(target, spec, scope)\n",
      "  File \"c:\\users\\martin\\src\\glom\\glom\\core.py\", line 1848, in _glom\n",
      "    return scope[MODE](target, spec, scope)\n",
      "  File \"c:\\users\\martin\\src\\glom\\glom\\core.py\", line 1859, in AUTO\n",
      "    return Path.from_text(spec).glomit(target, scope)\n",
      "  File \"c:\\users\\martin\\src\\glom\\glom\\core.py\", line 373, in glomit\n",
      "    return _t_eval(target, self.path_t, scope)\n",
      "  File \"c:\\users\\martin\\src\\glom\\glom\\core.py\", line 1214, in _t_eval\n",
      "    raise PathAccessError(e, Path(_t), i // 2)\n",
      "glom.core.PathAccessError: could not access '', part 0 of Path('', '', '', ' ?'), got error: KeyError('')\n",
      "\n",
      "During handling of the above exception, another exception occurred:\n",
      "\n",
      "Traceback (most recent call last):\n",
      "  File \"C:\\Python38\\lib\\site-packages\\IPython\\core\\ultratb.py\", line 1148, in get_records\n",
      "    return _fixed_getinnerframes(etb, number_of_lines_of_context, tb_offset)\n",
      "  File \"C:\\Python38\\lib\\site-packages\\IPython\\core\\ultratb.py\", line 316, in wrapped\n",
      "    return f(*args, **kwargs)\n",
      "  File \"C:\\Python38\\lib\\site-packages\\IPython\\core\\ultratb.py\", line 350, in _fixed_getinnerframes\n",
      "    records = fix_frame_records_filenames(inspect.getinnerframes(etb, context))\n",
      "  File \"C:\\Python38\\lib\\inspect.py\", line 1503, in getinnerframes\n",
      "    frameinfo = (tb.tb_frame,) + getframeinfo(tb, context)\n",
      "AttributeError: 'tuple' object has no attribute 'tb_frame'\n"
     ]
    },
    {
     "ename": "PathAccessError",
     "evalue": "could not access '', part 0 of Path('', '', '', ' ?'), got error: KeyError('')",
     "output_type": "error",
     "traceback": [
      "\u001b[1;31m---------------------------------------------------------------------------\u001b[0m",
      "\nDuring handling of the above exception, another exception occurred:\n",
      "\u001b[1;31mPathAccessError\u001b[0m\u001b[1;31m:\u001b[0m could not access '', part 0 of Path('', '', '', ' ?'), got error: KeyError('')\n"
     ]
    }
   ],
   "source": [
    "glom(r.json(), spec)"
   ]
  },
  {
   "cell_type": "code",
   "execution_count": null,
   "metadata": {},
   "outputs": [],
   "source": []
  },
  {
   "cell_type": "markdown",
   "metadata": {},
   "source": [
    "### Exercise 2:\n",
    "\n",
    "Extract data from an online booking result (in German language, sorry)\n",
    "http://borus.de/pythoncamp/booking_example.json\n",
    "        \n",
    "Wanted result:\n",
    "\n",
    "    {'departure_harbor_outward_trip': 'DKHNB',\n",
    "     'departure_date_outward_trip': '2019-09-01',\n",
    "     'departure_time_outward_trip': '14:30',\n",
    "     'departure_harbor_return_trip': 'DELIS',\n",
    "     'departure_date_return_trip': '2019-10-02',\n",
    "     'departure_time_return_trip': '19:25',\n",
    "     'tickets': ['CAR', 'AD', 'CH']\n",
    "    }\n"
   ]
  },
  {
   "cell_type": "code",
   "execution_count": 148,
   "metadata": {},
   "outputs": [],
   "source": [
    "r = requests.get(r'http://borus.de/pythoncamp/booking_example.json')"
   ]
  },
  {
   "cell_type": "code",
   "execution_count": 149,
   "metadata": {},
   "outputs": [
    {
     "data": {
      "text/plain": [
       "{'request_ip': '127.0.0.1',\n",
       " 'request_system': 'homepage',\n",
       " 'request_session': '<SESSION UUID4>',\n",
       " 'request_language': 'en',\n",
       " 'company': 'REDACTED',\n",
       " 'agency': None,\n",
       " 'client_no': '123456789',\n",
       " 'trip_special': None,\n",
       " 'booking_type': 'VEH',\n",
       " 'booking_currency': 'EUR',\n",
       " 'booking_no': None,\n",
       " 'trips': [{'trip_part': 'OUT',\n",
       "   'departure_harbor': 'DKHNB',\n",
       "   'destination_harbor': 'DELIS',\n",
       "   'date': '2019-09-01',\n",
       "   'time': '14:30',\n",
       "   'date_open': False,\n",
       "   'selected_voyage': 'H-L070145',\n",
       "   'selected_reservation_area': None,\n",
       "   'trip_discount percent': None},\n",
       "  {'trip_part': 'RET',\n",
       "   'departure_harbor': 'DELIS',\n",
       "   'destination_harbor': 'DKHNB',\n",
       "   'date': '2019-10-02',\n",
       "   'time': '19:25',\n",
       "   'date_open': False,\n",
       "   'selected_voyage': 'H-L070170',\n",
       "   'selected_reservation_area': None,\n",
       "   'trip_discount percent': None}],\n",
       " 'tickets': [{'type': 'CAR',\n",
       "   'token': None,\n",
       "   'is_vehicle': True,\n",
       "   'license_plate': 'NF-TEST-01',\n",
       "   'count': 1,\n",
       "   'length': 5.0,\n",
       "   'reservation_area': None,\n",
       "   'discounts': [{'type': None}]},\n",
       "  {'type': 'AD',\n",
       "   'token': None,\n",
       "   'is_vehicle': False,\n",
       "   'count': 2,\n",
       "   'length': None,\n",
       "   'reservation_area': None,\n",
       "   'discounts': [{'type': None}]},\n",
       "  {'type': 'CH',\n",
       "   'token': None,\n",
       "   'is_vehicle': False,\n",
       "   'count': 2,\n",
       "   'length': None,\n",
       "   'reservation_area': None,\n",
       "   'discounts': [{'type': None}]}],\n",
       " 'coupon': None,\n",
       " 'affiliate_code': None}"
      ]
     },
     "execution_count": 149,
     "metadata": {},
     "output_type": "execute_result"
    }
   ],
   "source": [
    "r.json()"
   ]
  },
  {
   "cell_type": "code",
   "execution_count": null,
   "metadata": {},
   "outputs": [],
   "source": [
    "# write the spec here\n",
    "spec = \"... ?\"\n"
   ]
  },
  {
   "cell_type": "code",
   "execution_count": null,
   "metadata": {},
   "outputs": [],
   "source": [
    "glom(r.json(), spec)"
   ]
  },
  {
   "cell_type": "code",
   "execution_count": null,
   "metadata": {},
   "outputs": [],
   "source": []
  }
 ],
 "metadata": {
  "kernelspec": {
   "display_name": "Python 3",
   "language": "python",
   "name": "python3"
  },
  "language_info": {
   "codemirror_mode": {
    "name": "ipython",
    "version": 3
   },
   "file_extension": ".py",
   "mimetype": "text/x-python",
   "name": "python",
   "nbconvert_exporter": "python",
   "pygments_lexer": "ipython3",
   "version": "3.8.2"
  }
 },
 "nbformat": 4,
 "nbformat_minor": 4
}
