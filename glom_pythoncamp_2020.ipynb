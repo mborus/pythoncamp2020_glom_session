{
 "cells": [
  {
   "cell_type": "code",
   "execution_count": 1,
   "metadata": {},
   "outputs": [],
   "source": [
    "# Housekeeping - Jupyter Fehlermeldungen kürzen\n",
    "# Hinweis: Sorry, bei mybinder.org klappt der Ansatz nicht\n",
    "import json \n",
    "from pprint import pprint\n",
    "import sys\n",
    "ipython = get_ipython()\n",
    "unhide_traceback = None\n",
    "\n",
    "def hide_traceback(exc_tuple=None, filename=None, tb_offset=None,\n",
    "                   exception_only=False, running_compiled_code=False):\n",
    "    etype, value, tb = sys.exc_info()\n",
    "    return ipython._showtraceback(etype, value, ipython.InteractiveTB.get_exception_only(etype, value))\n",
    "\n",
    "if not unhide_traceback:\n",
    "    unhide_traceback = ipython.showtraceback\n",
    "\n",
    "ipython.showtraceback = hide_traceback\n",
    "# ipython.showtraceback = unhide_traceback\n"
   ]
  },
  {
   "cell_type": "markdown",
   "metadata": {},
   "source": [
    "\n",
    "Pythoncamp 2020 Session Martin Borus, Twitter: @mborus\n",
    "\n",
    "# GLOM\n",
    "\n",
    "von Mahmoud Hashemi\n",
    "\n",
    "## \"Wenn Du verschachtelste Daten hast, brauchst du Glom!\"\n",
    "\n",
    "https://github.com/mahmoud/glom \n",
    "\n"
   ]
  },
  {
   "cell_type": "markdown",
   "metadata": {},
   "source": [
    "\n",
    "\n",
    "# Hauptfunktionen\n",
    "\n",
    "- Pfadbasierender Zugriff \n",
    "- deklarative Datenumwandlung\n",
    "- lesbare, ausagekräftige Fehlermeldungen\n",
    "- mit Debugger!\n"
   ]
  },
  {
   "cell_type": "markdown",
   "metadata": {},
   "source": [
    "## Vorbereitung\n",
    "\n",
    "pip install glom pip install --upgrade -e git+https://github.com/mahmoud/glom#egg=glom\n",
    "\n",
    "Dokumention und Tutorial auf https://glom.readthedocs.io,\n",
    "von hier stammen auch die Code-Beispiele der Einführung"
   ]
  },
  {
   "cell_type": "markdown",
   "metadata": {},
   "source": [
    "# 1. Normales Python"
   ]
  },
  {
   "cell_type": "code",
   "execution_count": 2,
   "metadata": {},
   "outputs": [],
   "source": [
    "data = {'a': {'b': {'c': 'd'}}}"
   ]
  },
  {
   "cell_type": "code",
   "execution_count": 3,
   "metadata": {},
   "outputs": [
    {
     "data": {
      "text/plain": [
       "'d'"
      ]
     },
     "execution_count": 3,
     "metadata": {},
     "output_type": "execute_result"
    }
   ],
   "source": [
    "data['a']['b']['c']"
   ]
  },
  {
   "cell_type": "code",
   "execution_count": 4,
   "metadata": {},
   "outputs": [],
   "source": [
    "data2 = {'a': {'b': None}}"
   ]
  },
  {
   "cell_type": "code",
   "execution_count": 5,
   "metadata": {},
   "outputs": [
    {
     "ename": "TypeError",
     "evalue": "'NoneType' object is not subscriptable",
     "output_type": "error",
     "traceback": [
      "\u001b[1;31mTypeError\u001b[0m\u001b[1;31m:\u001b[0m 'NoneType' object is not subscriptable\n"
     ]
    }
   ],
   "source": [
    "data2['a']['b']['c']"
   ]
  },
  {
   "cell_type": "code",
   "execution_count": null,
   "metadata": {},
   "outputs": [],
   "source": []
  },
  {
   "cell_type": "markdown",
   "metadata": {},
   "source": [
    "# 2. Glom "
   ]
  },
  {
   "cell_type": "code",
   "execution_count": 6,
   "metadata": {},
   "outputs": [],
   "source": [
    "from glom import glom"
   ]
  },
  {
   "cell_type": "code",
   "execution_count": 7,
   "metadata": {},
   "outputs": [
    {
     "data": {
      "text/plain": [
       "'d'"
      ]
     },
     "execution_count": 7,
     "metadata": {},
     "output_type": "execute_result"
    }
   ],
   "source": [
    "glom(data, 'a.b.c')"
   ]
  },
  {
   "cell_type": "code",
   "execution_count": 8,
   "metadata": {},
   "outputs": [
    {
     "ename": "PathAccessError",
     "evalue": "could not access 'c', part 2 of Path('a', 'b', 'c'), got error: AttributeError(\"'NoneType' object has no attribute 'c'\")",
     "output_type": "error",
     "traceback": [
      "\u001b[1;31mPathAccessError\u001b[0m\u001b[1;31m:\u001b[0m could not access 'c', part 2 of Path('a', 'b', 'c'), got error: AttributeError(\"'NoneType' object has no attribute 'c'\")\n"
     ]
    }
   ],
   "source": [
    "glom(data2, 'a.b.c')\n"
   ]
  },
  {
   "cell_type": "code",
   "execution_count": 9,
   "metadata": {},
   "outputs": [
    {
     "name": "stdout",
     "output_type": "stream",
     "text": [
      "could not access 'c', part 2 of Path('a', 'b', 'c'), got error: AttributeError(\"'NoneType' object has no attribute 'c'\")\n"
     ]
    }
   ],
   "source": [
    "# Mit glom lassen sich Fehler gut abfangen\n",
    "\n",
    "from glom import GlomError, PathAccessError\n",
    "\n",
    "try:\n",
    "    glom(data2, 'a.b.c')\n",
    "except PathAccessError as e:\n",
    "    print(e)"
   ]
  },
  {
   "cell_type": "code",
   "execution_count": 10,
   "metadata": {},
   "outputs": [
    {
     "name": "stdout",
     "output_type": "stream",
     "text": [
      "could not access 'c', part 2 of Path('a', 'b', 'c'), got error: AttributeError(\"'NoneType' object has no attribute 'c'\")\n"
     ]
    }
   ],
   "source": [
    "try:\n",
    "    glom(data2, 'a.b.c')\n",
    "except AttributeError as e:\n",
    "    print(e)"
   ]
  },
  {
   "cell_type": "code",
   "execution_count": 11,
   "metadata": {},
   "outputs": [
    {
     "name": "stdout",
     "output_type": "stream",
     "text": [
      "could not access 'c', part 2 of Path('a', 'b', 'c'), got error: AttributeError(\"'NoneType' object has no attribute 'c'\")\n"
     ]
    }
   ],
   "source": [
    "try:\n",
    "    glom(data2, 'a.b.c')\n",
    "except GlomError as e:\n",
    "    print(e)"
   ]
  },
  {
   "cell_type": "markdown",
   "metadata": {},
   "source": [
    "## Glom geht auch mit Lists"
   ]
  },
  {
   "cell_type": "code",
   "execution_count": 12,
   "metadata": {},
   "outputs": [],
   "source": [
    "data = [1, [2, 3, 4] , 3, 4 ,5]"
   ]
  },
  {
   "cell_type": "code",
   "execution_count": 13,
   "metadata": {},
   "outputs": [
    {
     "data": {
      "text/plain": [
       "2"
      ]
     },
     "execution_count": 13,
     "metadata": {},
     "output_type": "execute_result"
    }
   ],
   "source": [
    "glom(data, '1.0')"
   ]
  },
  {
   "cell_type": "markdown",
   "metadata": {},
   "source": [
    "## Glom geht auch mit Objekten !1!!"
   ]
  },
  {
   "cell_type": "code",
   "execution_count": 14,
   "metadata": {},
   "outputs": [],
   "source": [
    "class MyClass:\n",
    "    def __init__(self):\n",
    "        self._hallo = \"hallo!\"\n",
    "        self._welt = \"welt!\"\n",
    "       \n",
    "myvar = MyClass()        "
   ]
  },
  {
   "cell_type": "code",
   "execution_count": 15,
   "metadata": {},
   "outputs": [
    {
     "data": {
      "text/plain": [
       "'hallo!'"
      ]
     },
     "execution_count": 15,
     "metadata": {},
     "output_type": "execute_result"
    }
   ],
   "source": [
    "glom(myvar, '_hallo')"
   ]
  },
  {
   "cell_type": "code",
   "execution_count": null,
   "metadata": {},
   "outputs": [],
   "source": []
  },
  {
   "cell_type": "markdown",
   "metadata": {},
   "source": [
    "# 3. Target & Spec\n",
    "- \"Target\" sind die Daten, (list, dict, object)\n",
    "- \"Spec\" ist das gewünschte Ergebnis"
   ]
  },
  {
   "cell_type": "code",
   "execution_count": 16,
   "metadata": {},
   "outputs": [
    {
     "data": {
      "text/plain": [
       "'jupiter'"
      ]
     },
     "execution_count": 16,
     "metadata": {},
     "output_type": "execute_result"
    }
   ],
   "source": [
    "target = {\n",
    "     'galaxy': {\n",
    "        'system': {\n",
    "            'planet': 'jupiter'\n",
    "         }\n",
    "    }\n",
    "}\n",
    "\n",
    "spec = 'galaxy.system.planet'\n",
    "\n",
    "glom(target, spec)"
   ]
  },
  {
   "cell_type": "code",
   "execution_count": 17,
   "metadata": {},
   "outputs": [
    {
     "data": {
      "text/plain": [
       "{'names': ['earth', 'jupiter'], 'moons': [1, 69]}"
      ]
     },
     "execution_count": 17,
     "metadata": {},
     "output_type": "execute_result"
    }
   ],
   "source": [
    "target = {\n",
    "    'system': {\n",
    "        'planets': [\n",
    "            {'name': 'earth', 'moons': 1},\n",
    "            {'name': 'jupiter', 'moons': 69}\n",
    "        ]\n",
    "    }\n",
    "}\n",
    "\n",
    "spec = {\n",
    "     'names': ('system.planets', ['name']),\n",
    "     'moons': ('system.planets', ['moons'])\n",
    "}\n",
    "\n",
    "glom(target, spec)"
   ]
  },
  {
   "cell_type": "code",
   "execution_count": 18,
   "metadata": {},
   "outputs": [],
   "source": [
    "target = {\n",
    "     'system': {\n",
    "         'planets': [\n",
    "            {\n",
    "                'name': 'earth',\n",
    "                'moons': [\n",
    "                    {'name': 'luna'}\n",
    "                ]\n",
    "            },\n",
    "            {\n",
    "                'name': 'jupiter',\n",
    "                'moons': [\n",
    "                    {'name': 'io'},\n",
    "                    {'name': 'europa'}\n",
    "                ]\n",
    "            }\n",
    "        ]\n",
    "    }\n",
    "}"
   ]
  },
  {
   "cell_type": "code",
   "execution_count": 19,
   "metadata": {},
   "outputs": [
    {
     "name": "stdout",
     "output_type": "stream",
     "text": [
      "{'moon_names': [['luna'], ['io', 'europa']],\n",
      " 'planet_names': ['earth', 'jupiter']}\n"
     ]
    }
   ],
   "source": [
    "\n",
    "spec = {\n",
    "    'planet_names': ('system.planets', ['name']),\n",
    "    'moon_names': ('system.planets', [('moons', ['name'],  )])\n",
    "}\n",
    "pprint(glom(target, spec))"
   ]
  },
  {
   "cell_type": "code",
   "execution_count": 20,
   "metadata": {},
   "outputs": [
    {
     "data": {
      "text/plain": [
       "{'planets': ['earth', 'jupiter'], 'moons': [1, 69]}"
      ]
     },
     "execution_count": 20,
     "metadata": {},
     "output_type": "execute_result"
    }
   ],
   "source": [
    "from glom import Coalesce\n",
    "\n",
    "target = {\n",
    "     'system': {\n",
    "         'planets': [\n",
    "             {'name': 'earth', 'moons': 1},\n",
    "             {'name': 'jupiter', 'moons': 69}\n",
    "         ]\n",
    "     }\n",
    "}\n",
    "\n",
    "spec = {\n",
    "     'planets': (Coalesce('system.planets', 'system.dwarf_planets'), ['name']),\n",
    "     'moons': (Coalesce('system.planets', 'system.dwarf_planets'), ['moons'])\n",
    "}\n",
    "\n",
    "glom(target, spec)"
   ]
  },
  {
   "cell_type": "code",
   "execution_count": 21,
   "metadata": {},
   "outputs": [
    {
     "data": {
      "text/plain": [
       "{'planets': ['pluto', 'ceres'], 'moons': [5, 0]}"
      ]
     },
     "execution_count": 21,
     "metadata": {},
     "output_type": "execute_result"
    }
   ],
   "source": [
    "target = {\n",
    "     'system': {\n",
    "         'dwarf_planets': [\n",
    "             {'name': 'pluto', 'moons': 5},\n",
    "             {'name': 'ceres', 'moons': 0},\n",
    "         ]\n",
    "     }\n",
    " }\n",
    "glom(target, spec)"
   ]
  },
  {
   "cell_type": "code",
   "execution_count": 22,
   "metadata": {},
   "outputs": [
    {
     "data": {
      "text/plain": [
       "{'moon_count': 70}"
      ]
     },
     "execution_count": 22,
     "metadata": {},
     "output_type": "execute_result"
    }
   ],
   "source": [
    "target = {\n",
    "     'system': {\n",
    "         'planets': [\n",
    "             {'name': 'earth', 'moons': 1},\n",
    "             {'name': 'jupiter', 'moons': 69}\n",
    "         ]\n",
    "     }\n",
    "}\n",
    "\n",
    "glom(target, {'moon_count': ('system.planets', ['moons'], sum)})\n",
    "# glom(target, {'moon_count': ('system.planets', ['moons'], lambda x: sum(x))})"
   ]
  },
  {
   "cell_type": "code",
   "execution_count": null,
   "metadata": {},
   "outputs": [],
   "source": []
  },
  {
   "cell_type": "code",
   "execution_count": 23,
   "metadata": {},
   "outputs": [],
   "source": [
    "class MySubClass:\n",
    "    def __init__(self):\n",
    "        self._hey = \"Hey!\"\n",
    "\n",
    "class MyClass:\n",
    "    def __init__(self):\n",
    "        self._hallo = \"hallo!\"\n",
    "        self._welt = \"welt!\"\n",
    "        self._heylist = [MySubClass()] * 6\n",
    "\n",
    "        \n",
    "myvar = MyClass()  "
   ]
  },
  {
   "cell_type": "code",
   "execution_count": 24,
   "metadata": {},
   "outputs": [
    {
     "data": {
      "text/plain": [
       "{'hallo': 'hallo!',\n",
       " 'welt': 'welt!',\n",
       " 'heylist': ['Hey!', 'Hey!', 'Hey!', 'Hey!', 'Hey!', 'Hey!']}"
      ]
     },
     "execution_count": 24,
     "metadata": {},
     "output_type": "execute_result"
    }
   ],
   "source": [
    "from glom import Iter\n",
    "spec = {'hallo': '_hallo', 'welt': '_welt', 'heylist': ('_heylist', ['_hey'])}\n",
    "\n",
    "glom(myvar, spec)"
   ]
  },
  {
   "cell_type": "code",
   "execution_count": null,
   "metadata": {},
   "outputs": [],
   "source": []
  },
  {
   "cell_type": "markdown",
   "metadata": {},
   "source": [
    "# 4. Daten eindampfen - Flatten und Merge"
   ]
  },
  {
   "cell_type": "code",
   "execution_count": 25,
   "metadata": {},
   "outputs": [],
   "source": [
    "from glom import Flatten, Merge"
   ]
  },
  {
   "cell_type": "code",
   "execution_count": 26,
   "metadata": {},
   "outputs": [],
   "source": [
    "data = [[1,2], [3], [4], [], [5]]"
   ]
  },
  {
   "cell_type": "code",
   "execution_count": 27,
   "metadata": {},
   "outputs": [
    {
     "data": {
      "text/plain": [
       "[1, 2, 3, 4, 5]"
      ]
     },
     "execution_count": 27,
     "metadata": {},
     "output_type": "execute_result"
    }
   ],
   "source": [
    "glom(data, Flatten())"
   ]
  },
  {
   "cell_type": "code",
   "execution_count": 28,
   "metadata": {},
   "outputs": [],
   "source": [
    "data = [{'hallo': 'welt'}, {'hello': 'world'}]"
   ]
  },
  {
   "cell_type": "code",
   "execution_count": 29,
   "metadata": {},
   "outputs": [
    {
     "data": {
      "text/plain": [
       "{'hallo': 'welt', 'hello': 'world'}"
      ]
     },
     "execution_count": 29,
     "metadata": {},
     "output_type": "execute_result"
    }
   ],
   "source": [
    "glom(data, Merge())"
   ]
  },
  {
   "cell_type": "code",
   "execution_count": null,
   "metadata": {},
   "outputs": [],
   "source": []
  },
  {
   "cell_type": "markdown",
   "metadata": {},
   "source": [
    "# 5. Tutorial: Objekte -> Ausgaben"
   ]
  },
  {
   "cell_type": "code",
   "execution_count": 30,
   "metadata": {},
   "outputs": [],
   "source": [
    "from glom.tutorial import * "
   ]
  },
  {
   "cell_type": "code",
   "execution_count": 31,
   "metadata": {},
   "outputs": [],
   "source": [
    "contact = Contact('Julian',\n",
    "          emails=[Email(email='jlahey@svtp.info')],\n",
    "                  location='Canada')"
   ]
  },
  {
   "cell_type": "code",
   "execution_count": 32,
   "metadata": {},
   "outputs": [],
   "source": [
    "contact.save()"
   ]
  },
  {
   "cell_type": "code",
   "execution_count": 33,
   "metadata": {},
   "outputs": [
    {
     "data": {
      "text/plain": [
       "Email(id=5, email='jlahey@svtp.info', email_type='personal')"
      ]
     },
     "execution_count": 33,
     "metadata": {},
     "output_type": "execute_result"
    }
   ],
   "source": [
    "contact.primary_email"
   ]
  },
  {
   "cell_type": "code",
   "execution_count": 34,
   "metadata": {},
   "outputs": [
    {
     "data": {
      "text/plain": [
       "datetime.datetime(2020, 4, 25, 10, 55, 25, 57554)"
      ]
     },
     "execution_count": 34,
     "metadata": {},
     "output_type": "execute_result"
    }
   ],
   "source": [
    "contact.add_date"
   ]
  },
  {
   "cell_type": "code",
   "execution_count": 35,
   "metadata": {},
   "outputs": [
    {
     "data": {
      "text/plain": [
       "5"
      ]
     },
     "execution_count": 35,
     "metadata": {},
     "output_type": "execute_result"
    }
   ],
   "source": [
    "contact.id"
   ]
  },
  {
   "cell_type": "code",
   "execution_count": 36,
   "metadata": {},
   "outputs": [
    {
     "data": {
      "text/plain": [
       "5"
      ]
     },
     "execution_count": 36,
     "metadata": {},
     "output_type": "execute_result"
    }
   ],
   "source": [
    "len(Contact.objects.all())"
   ]
  },
  {
   "cell_type": "code",
   "execution_count": 37,
   "metadata": {},
   "outputs": [
    {
     "ename": "TypeError",
     "evalue": "Object of type Contact is not JSON serializable",
     "output_type": "error",
     "traceback": [
      "\u001b[1;31mTypeError\u001b[0m\u001b[1;31m:\u001b[0m Object of type Contact is not JSON serializable\n"
     ]
    }
   ],
   "source": [
    "json.dumps(Contact.objects.all())"
   ]
  },
  {
   "cell_type": "code",
   "execution_count": 38,
   "metadata": {},
   "outputs": [],
   "source": [
    "target = Contact.objects.all()"
   ]
  },
  {
   "cell_type": "code",
   "execution_count": 39,
   "metadata": {},
   "outputs": [
    {
     "data": {
      "text/plain": [
       "datetime.datetime(2020, 4, 25, 10, 55, 24, 929546)"
      ]
     },
     "execution_count": 39,
     "metadata": {},
     "output_type": "execute_result"
    }
   ],
   "source": [
    "target[0].add_date"
   ]
  },
  {
   "cell_type": "code",
   "execution_count": 40,
   "metadata": {},
   "outputs": [],
   "source": [
    "spec = {'results': [{'id': 'id',\n",
    "                      'name': 'name',\n",
    "                      'add_date': ('add_date', str),\n",
    "                      'emails': ('emails', [{'id': 'id',\n",
    "                                            'email': 'email',\n",
    "                                            'type': 'email_type'}]),\n",
    "                      'primary_email': Coalesce('primary_email.email', default=None),\n",
    "                      'pref_name': Coalesce('pref_name', 'name', skip='', default=''),\n",
    "                      'detail': Coalesce('company',\n",
    "                                         'location',\n",
    "                                         ('add_date.year', str),\n",
    "                                         skip='', default='')}]}"
   ]
  },
  {
   "cell_type": "code",
   "execution_count": 41,
   "metadata": {},
   "outputs": [],
   "source": [
    "resp = glom(target, spec)"
   ]
  },
  {
   "cell_type": "code",
   "execution_count": 42,
   "metadata": {},
   "outputs": [
    {
     "name": "stdout",
     "output_type": "stream",
     "text": [
      "{\n",
      "  \"results\": [\n",
      "    {\n",
      "      \"add_date\": \"2020-04-25 10:55:24.929546\",\n",
      "      \"detail\": \"Mountain View\",\n",
      "      \"emails\": [\n",
      "        {\n",
      "          \"email\": \"kurt@example.com\",\n",
      "          \"id\": 1,\n",
      "          \"type\": \"personal\"\n",
      "        }\n",
      "      ],\n",
      "      \"id\": 1,\n",
      "      \"name\": \"Kurt\",\n",
      "      \"pref_name\": \"Kurt\",\n",
      "      \"primary_email\": \"kurt@example.com\"\n",
      "    },\n",
      "    {\n",
      "      \"add_date\": \"2020-04-25 10:55:24.929546\",\n",
      "      \"detail\": \"D & D Mastering\",\n",
      "      \"emails\": [\n",
      "        {\n",
      "          \"email\": \"seanboy@example.com\",\n",
      "          \"id\": 2,\n",
      "          \"type\": \"personal\"\n",
      "        }\n",
      "      ],\n",
      "      \"id\": 2,\n",
      "      \"name\": \"Sean\",\n",
      "      \"pref_name\": \"Sean\",\n",
      "      \"primary_email\": \"seanboy@example.com\"\n",
      "    },\n",
      "    {\n",
      "      \"add_date\": \"2020-04-25 10:55:24.929546\",\n",
      "      \"detail\": \"HomeMake Labs\",\n",
      "      \"emails\": [\n",
      "        {\n",
      "          \"email\": \"mixtape@homemakelabs.com\",\n",
      "          \"id\": 3,\n",
      "          \"type\": \"work\"\n",
      "        },\n",
      "        {\n",
      "          \"email\": \"matt@example.com\",\n",
      "          \"id\": 4,\n",
      "          \"type\": \"personal\"\n",
      "        }\n",
      "      ],\n",
      "      \"id\": 3,\n",
      "      \"name\": \"Matt\",\n",
      "      \"pref_name\": \"Matt\",\n",
      "      \"primary_email\": \"mixtape@homemakelabs.com\"\n",
      "    },\n",
      "    {\n",
      "      \"add_date\": \"2020-04-25 10:55:24.929546\",\n",
      "      \"detail\": \"Sunnyvale Trailer Park\",\n",
      "      \"emails\": [],\n",
      "      \"id\": 4,\n",
      "      \"name\": \"Julian\",\n",
      "      \"pref_name\": \"Julian\",\n",
      "      \"primary_email\": null\n",
      "    },\n",
      "    {\n",
      "      \"add_date\": \"2020-04-25 10:55:25.057554\",\n",
      "      \"detail\": \"Canada\",\n",
      "      \"emails\": [\n",
      "        {\n",
      "          \"email\": \"jlahey@svtp.info\",\n",
      "          \"id\": 5,\n",
      "          \"type\": \"personal\"\n",
      "        }\n",
      "      ],\n",
      "      \"id\": 5,\n",
      "      \"name\": \"Julian\",\n",
      "      \"pref_name\": \"Julian\",\n",
      "      \"primary_email\": \"jlahey@svtp.info\"\n",
      "    }\n",
      "  ]\n",
      "}\n"
     ]
    }
   ],
   "source": [
    "print(json.dumps(resp, indent=2, sort_keys=True))"
   ]
  },
  {
   "cell_type": "code",
   "execution_count": null,
   "metadata": {},
   "outputs": [],
   "source": []
  },
  {
   "cell_type": "markdown",
   "metadata": {},
   "source": [
    "# 6. \"T\" - das Stunt-Double"
   ]
  },
  {
   "cell_type": "code",
   "execution_count": 43,
   "metadata": {},
   "outputs": [
    {
     "data": {
      "text/plain": [
       "{'id': 1,\n",
       " 'name': 'Kurt',\n",
       " 'add_date': '2020-04-25 10:55:24.929546',\n",
       " 'emails': [{'id': 1, 'email': 'kurt@example.com', 'type': 'personal'}],\n",
       " 'primary_email': 'kurt@example.com',\n",
       " 'pref_name': 'Kurt',\n",
       " 'detail': 'Mountain View'}"
      ]
     },
     "execution_count": 43,
     "metadata": {},
     "output_type": "execute_result"
    }
   ],
   "source": [
    "from glom import T, Flatten\n",
    "# Antwort 1. Zeile\n",
    "glom(resp, ('results', T[0]))"
   ]
  },
  {
   "cell_type": "code",
   "execution_count": 44,
   "metadata": {},
   "outputs": [
    {
     "data": {
      "text/plain": [
       "['kurt@example.com',\n",
       " 'seanboy@example.com',\n",
       " 'mixtape@homemakelabs.com',\n",
       " 'matt@example.com',\n",
       " 'jlahey@svtp.info']"
      ]
     },
     "execution_count": 44,
     "metadata": {},
     "output_type": "execute_result"
    }
   ],
   "source": [
    "# Antwort: Alle Emails\n",
    "from glom import Flatten\n",
    "\n",
    "glom(resp, ('results', ['emails'],\n",
    "            Flatten(),\n",
    "            ['email'],\n",
    "           )\n",
    "    )\n"
   ]
  },
  {
   "cell_type": "code",
   "execution_count": null,
   "metadata": {},
   "outputs": [],
   "source": []
  },
  {
   "cell_type": "markdown",
   "metadata": {},
   "source": [
    "# 7. Loop mit Iter"
   ]
  },
  {
   "cell_type": "code",
   "execution_count": 45,
   "metadata": {},
   "outputs": [],
   "source": [
    "from glom import glom, Iter\n",
    "\n",
    "target = ['Brummbär',\n",
    "          'Pimpel',\n",
    "          'Happy',\n",
    "          'Chef',\n",
    "          'Hatschi',\n",
    "          'Schlafmütz',\n",
    "          'Seppel']"
   ]
  },
  {
   "cell_type": "code",
   "execution_count": 46,
   "metadata": {},
   "outputs": [
    {
     "data": {
      "text/plain": [
       "<generator object Iter._iterate at 0x00000000066AAF48>"
      ]
     },
     "execution_count": 46,
     "metadata": {},
     "output_type": "execute_result"
    }
   ],
   "source": [
    "# Iter liefert erst einmal einen Generator\n",
    "spec = Iter()\n",
    "glom(target, spec)"
   ]
  },
  {
   "cell_type": "code",
   "execution_count": 47,
   "metadata": {},
   "outputs": [
    {
     "data": {
      "text/plain": [
       "['Brummbär', 'Pimpel', 'Happy', 'Chef', 'Hatschi', 'Schlafmütz', 'Seppel']"
      ]
     },
     "execution_count": 47,
     "metadata": {},
     "output_type": "execute_result"
    }
   ],
   "source": [
    "# Generator in Liste verwandeln\n",
    "spec = Iter().all()\n",
    "glom(target, spec)"
   ]
  },
  {
   "cell_type": "code",
   "execution_count": 48,
   "metadata": {},
   "outputs": [
    {
     "data": {
      "text/plain": [
       "[['Brummbär', 'Pimpel'],\n",
       " ['Happy', 'Chef'],\n",
       " ['Hatschi', 'Schlafmütz'],\n",
       " ['Seppel', 'Schneewittchen']]"
      ]
     },
     "execution_count": 48,
     "metadata": {},
     "output_type": "execute_result"
    }
   ],
   "source": [
    "# Gruppieren in Chunks\n",
    "spec = Iter().chunked(2, fill='Schneewittchen').all()\n",
    "glom(target, spec)"
   ]
  },
  {
   "cell_type": "code",
   "execution_count": 49,
   "metadata": {},
   "outputs": [
    {
     "data": {
      "text/plain": [
       "['Brummbär', 'Pimpel', 'Happy', 'Hatschi', 'Schlafmütz', 'Seppel']"
      ]
     },
     "execution_count": 49,
     "metadata": {},
     "output_type": "execute_result"
    }
   ],
   "source": [
    "spec = Iter().filter(lambda x: x != 'Chef').all()\n",
    "glom(target, spec)"
   ]
  },
  {
   "cell_type": "code",
   "execution_count": 50,
   "metadata": {},
   "outputs": [
    {
     "data": {
      "text/plain": [
       "['Brummbär', 'Pimpel', 'Happy']"
      ]
     },
     "execution_count": 50,
     "metadata": {},
     "output_type": "execute_result"
    }
   ],
   "source": [
    "# Maximale Größe der Rückgabe\n",
    "spec = Iter().limit(3).all()\n",
    "glom(target, spec)"
   ]
  },
  {
   "cell_type": "code",
   "execution_count": 51,
   "metadata": {},
   "outputs": [
    {
     "data": {
      "text/plain": [
       "['Pimpel', 'Happy', 'Chef']"
      ]
     },
     "execution_count": 51,
     "metadata": {},
     "output_type": "execute_result"
    }
   ],
   "source": [
    "# Zwerge 2 bis 4 in der 0-basierten Liste finden\n",
    "spec = Iter().slice(1, 4).all()\n",
    "glom(target, spec)"
   ]
  },
  {
   "cell_type": "code",
   "execution_count": 52,
   "metadata": {},
   "outputs": [
    {
     "data": {
      "text/plain": [
       "['Brummbär', 'Pimpel', 'Happy', 'Chef', 'Schlafmütz']"
      ]
     },
     "execution_count": 52,
     "metadata": {},
     "output_type": "execute_result"
    }
   ],
   "source": [
    "# Nur ein Zwerg mit dem gleichen Anfangsbuchstaben erlaubt\n",
    "spec = Iter().unique(T[0]).all()\n",
    "glom(target, spec)"
   ]
  },
  {
   "cell_type": "code",
   "execution_count": 53,
   "metadata": {},
   "outputs": [
    {
     "data": {
      "text/plain": [
       "['Brummbär', 'Pimpel', 'Happy']"
      ]
     },
     "execution_count": 53,
     "metadata": {},
     "output_type": "execute_result"
    }
   ],
   "source": [
    "# Nehmen, nur bis der Chef kommt\n",
    "spec = Iter().takewhile(lambda x: x != 'Chef').all()\n",
    "glom(target, spec)"
   ]
  },
  {
   "cell_type": "code",
   "execution_count": 54,
   "metadata": {},
   "outputs": [
    {
     "data": {
      "text/plain": [
       "'Hatschi'"
      ]
     },
     "execution_count": 54,
     "metadata": {},
     "output_type": "execute_result"
    }
   ],
   "source": [
    "# Der erste Zwerg, der nach dem Chef kommt...\n",
    "spec = Iter().dropwhile(lambda x: x != 'Chef').slice(1, 2).first()\n",
    "glom(target, spec)"
   ]
  },
  {
   "cell_type": "code",
   "execution_count": 55,
   "metadata": {},
   "outputs": [
    {
     "data": {
      "text/plain": [
       "[['Brummbär', 'Pimpel', 'Happy'], ['Hatschi', 'Schlafmütz', 'Seppel']]"
      ]
     },
     "execution_count": 55,
     "metadata": {},
     "output_type": "execute_result"
    }
   ],
   "source": [
    "# Gruppentrennung\n",
    "spec = Iter().split('Chef').all() \n",
    "glom(target, spec)"
   ]
  },
  {
   "cell_type": "code",
   "execution_count": 56,
   "metadata": {},
   "outputs": [
    {
     "data": {
      "text/plain": [
       "['brummbär', 'pimpel', 'happy', 'chef', 'hatschi', 'schlafmütz', 'seppel']"
      ]
     },
     "execution_count": 56,
     "metadata": {},
     "output_type": "execute_result"
    }
   ],
   "source": [
    "# Funktion anwenden\n",
    "spec = Iter().map(lambda x:x.lower()).all()\n",
    "glom(target, spec)\n"
   ]
  },
  {
   "cell_type": "code",
   "execution_count": 57,
   "metadata": {},
   "outputs": [
    {
     "data": {
      "text/plain": [
       "['BRUMMBÄR', 'PIMPEL', 'HAPPY', 'CHEF', 'HATSCHI', 'SCHLAFMÜTZ', 'SEPPEL']"
      ]
     },
     "execution_count": 57,
     "metadata": {},
     "output_type": "execute_result"
    }
   ],
   "source": [
    "# oder das Stunt-Double verwenden\n",
    "spec = Iter().map(T.upper()).all()\n",
    "glom(target, spec)"
   ]
  },
  {
   "cell_type": "code",
   "execution_count": null,
   "metadata": {},
   "outputs": [],
   "source": []
  },
  {
   "cell_type": "markdown",
   "metadata": {},
   "source": [
    "# 8. Literal - Feste Werte vergeben"
   ]
  },
  {
   "cell_type": "code",
   "execution_count": 58,
   "metadata": {},
   "outputs": [],
   "source": [
    "from glom import Literal\n",
    "spec = Iter({'Name': T, 'Grösse': Literal('Zwerg')}).all()"
   ]
  },
  {
   "cell_type": "code",
   "execution_count": 59,
   "metadata": {},
   "outputs": [
    {
     "data": {
      "text/plain": [
       "[{'Name': 'Brummbär', 'Grösse': 'Zwerg'},\n",
       " {'Name': 'Pimpel', 'Grösse': 'Zwerg'},\n",
       " {'Name': 'Happy', 'Grösse': 'Zwerg'},\n",
       " {'Name': 'Chef', 'Grösse': 'Zwerg'},\n",
       " {'Name': 'Hatschi', 'Grösse': 'Zwerg'},\n",
       " {'Name': 'Schlafmütz', 'Grösse': 'Zwerg'},\n",
       " {'Name': 'Seppel', 'Grösse': 'Zwerg'}]"
      ]
     },
     "execution_count": 59,
     "metadata": {},
     "output_type": "execute_result"
    }
   ],
   "source": [
    "glom(target, spec)"
   ]
  },
  {
   "cell_type": "code",
   "execution_count": null,
   "metadata": {},
   "outputs": [],
   "source": []
  },
  {
   "cell_type": "markdown",
   "metadata": {},
   "source": [
    "# 9. Data Driven\n",
    "\n",
    "Wenn der Schlüssel aus dem Dictionary Daten enthält"
   ]
  },
  {
   "cell_type": "code",
   "execution_count": 60,
   "metadata": {},
   "outputs": [
    {
     "data": {
      "text/plain": [
       "{'moons': {'pluto': 6, 'venus': 0, 'earth': 1}}"
      ]
     },
     "execution_count": 60,
     "metadata": {},
     "output_type": "execute_result"
    }
   ],
   "source": [
    "from glom import glom, T, Merge, Iter, Coalesce\n",
    "\n",
    "target = {\n",
    "    \"pluto\": {\"moons\": 6, \"population\": None},\n",
    "    \"venus\": {\"population\": {\"aliens\": 5}},\n",
    "    \"earth\": {\"moons\": 1, \"population\": {\"humans\": 7_700_000_000, \"aliens\": 1}},\n",
    "}\n",
    "\n",
    "spec = {\n",
    "    \"moons\": (\n",
    "           T.items(),\n",
    "           Iter({T[0]: (T[1], Coalesce(\"moons\", default=0))}),\n",
    "           Merge()\n",
    "    )\n",
    "}\n",
    "        \n",
    "glom(target, spec)        "
   ]
  },
  {
   "cell_type": "code",
   "execution_count": null,
   "metadata": {},
   "outputs": [],
   "source": []
  },
  {
   "cell_type": "markdown",
   "metadata": {},
   "source": [
    "# 10. Werte hinzufügen & Löschen"
   ]
  },
  {
   "cell_type": "code",
   "execution_count": 61,
   "metadata": {},
   "outputs": [],
   "source": [
    "data = {'moons': {'pluto': 6, 'venus': 0, 'earth': 1}}"
   ]
  },
  {
   "cell_type": "code",
   "execution_count": 62,
   "metadata": {},
   "outputs": [],
   "source": [
    "from glom import Assign, Delete\n",
    "spec = Assign('moons.saturn', 7)"
   ]
  },
  {
   "cell_type": "code",
   "execution_count": 63,
   "metadata": {},
   "outputs": [
    {
     "data": {
      "text/plain": [
       "{'moons': {'pluto': 6, 'venus': 0, 'earth': 1, 'saturn': 7}}"
      ]
     },
     "execution_count": 63,
     "metadata": {},
     "output_type": "execute_result"
    }
   ],
   "source": [
    "glom(data, spec)"
   ]
  },
  {
   "cell_type": "code",
   "execution_count": 64,
   "metadata": {},
   "outputs": [],
   "source": [
    "spec = Delete('moons.earth')"
   ]
  },
  {
   "cell_type": "code",
   "execution_count": 65,
   "metadata": {},
   "outputs": [
    {
     "data": {
      "text/plain": [
       "{'moons': {'pluto': 6, 'venus': 0, 'saturn': 7}}"
      ]
     },
     "execution_count": 65,
     "metadata": {},
     "output_type": "execute_result"
    }
   ],
   "source": [
    "glom(data, spec)"
   ]
  },
  {
   "cell_type": "code",
   "execution_count": 66,
   "metadata": {},
   "outputs": [
    {
     "ename": "PathDeleteError",
     "evalue": "could not delete 'mars' on object at Path('moons'), got error: KeyError('mars')",
     "output_type": "error",
     "traceback": [
      "\u001b[1;31mPathDeleteError\u001b[0m\u001b[1;31m:\u001b[0m could not delete 'mars' on object at Path('moons'), got error: KeyError('mars')\n"
     ]
    }
   ],
   "source": [
    "spec = Delete('moons.mars', ignore_missing=False)\n",
    "glom(data, spec)"
   ]
  },
  {
   "cell_type": "code",
   "execution_count": null,
   "metadata": {},
   "outputs": [],
   "source": []
  },
  {
   "cell_type": "markdown",
   "metadata": {},
   "source": [
    "# 11. Scope\n",
    "\n",
    "Mit Scope weitere Daten übergeben, die sonst nicht sichtbar wären"
   ]
  },
  {
   "cell_type": "code",
   "execution_count": 67,
   "metadata": {},
   "outputs": [
    {
     "data": {
      "text/plain": [
       "[{'name': 'A', 'id': 'A1', 'date': '2020-04-01', 'location': 'A'},\n",
       " {'name': 'B', 'id': 'B1', 'date': '2020-04-01', 'location': 'A'},\n",
       " {'name': 'C', 'id': 'C1', 'date': '2020-04-01', 'location': 'A'}]"
      ]
     },
     "execution_count": 67,
     "metadata": {},
     "output_type": "execute_result"
    }
   ],
   "source": [
    "from glom import S, glom, Assign, Spec\n",
    "\n",
    "target = {'date': '2020-04-01',\n",
    " 'location': 'A',\n",
    " 'items': [\n",
    "     {'name': 'A', 'id': 'A1'},\n",
    "     {'name': 'B', 'id': 'B1'},\n",
    "     {'name': 'C', 'id': 'C1'}\n",
    "]}\n",
    "\n",
    "spec = ('items', \n",
    "        [Assign('date', Spec(S['date']))], \n",
    "        [Assign('location', Spec(S['location']))]\n",
    "       )\n",
    "\n",
    "glom(target, spec, scope=target)"
   ]
  },
  {
   "cell_type": "code",
   "execution_count": null,
   "metadata": {},
   "outputs": [],
   "source": []
  },
  {
   "cell_type": "markdown",
   "metadata": {},
   "source": [
    "# 12. XML"
   ]
  },
  {
   "cell_type": "code",
   "execution_count": 68,
   "metadata": {},
   "outputs": [],
   "source": [
    "from glom import Ref"
   ]
  },
  {
   "cell_type": "code",
   "execution_count": 69,
   "metadata": {},
   "outputs": [],
   "source": [
    "etree2dicts = Ref('ElementTree',\n",
    "    {\"tag\": \"tag\", \n",
    "     \"text\": \"text\", \n",
    "     \"attrib\": \"attrib\", \n",
    "     \"children\": (iter, [Ref('ElementTree')])})"
   ]
  },
  {
   "cell_type": "code",
   "execution_count": 70,
   "metadata": {},
   "outputs": [],
   "source": [
    "html_text = \"\"\"<html>\n",
    "  <head>\n",
    "    <title>the title</title>\n",
    "  </head>\n",
    "  <body id=\"the-body\">\n",
    "    <p>A paragraph</p>\n",
    "  </body>\n",
    "</html>\"\"\""
   ]
  },
  {
   "cell_type": "code",
   "execution_count": 71,
   "metadata": {},
   "outputs": [],
   "source": [
    "from xml.etree import ElementTree\n",
    "etree = ElementTree.fromstring(html_text)"
   ]
  },
  {
   "cell_type": "code",
   "execution_count": 72,
   "metadata": {},
   "outputs": [
    {
     "data": {
      "text/plain": [
       "{'tag': 'html',\n",
       " 'text': '\\n  ',\n",
       " 'attrib': {},\n",
       " 'children': [{'tag': 'head',\n",
       "   'text': '\\n    ',\n",
       "   'attrib': {},\n",
       "   'children': [{'tag': 'title',\n",
       "     'text': 'the title',\n",
       "     'attrib': {},\n",
       "     'children': []}]},\n",
       "  {'tag': 'body',\n",
       "   'text': '\\n    ',\n",
       "   'attrib': {'id': 'the-body'},\n",
       "   'children': [{'tag': 'p',\n",
       "     'text': 'A paragraph',\n",
       "     'attrib': {},\n",
       "     'children': []}]}]}"
      ]
     },
     "execution_count": 72,
     "metadata": {},
     "output_type": "execute_result"
    }
   ],
   "source": [
    "glom(etree, etree2dicts)"
   ]
  },
  {
   "cell_type": "code",
   "execution_count": null,
   "metadata": {},
   "outputs": [],
   "source": []
  },
  {
   "cell_type": "markdown",
   "metadata": {},
   "source": [
    "# 13. Weiteres...\n",
    "\n",
    "aus Zeitgründen noch nicht erwähnt\n",
    "\n",
    "- Path ( Eine andere Pfadnotation, wenn Strings nicht gehen)\n",
    "- Invoke / Call (Funktionen anwenden)\n",
    "- Check -> CheckError (Daten auf Korrektheit prüfen!)\n",
    "- Inspect (Debugger)  "
   ]
  },
  {
   "cell_type": "code",
   "execution_count": null,
   "metadata": {},
   "outputs": [],
   "source": []
  },
  {
   "cell_type": "markdown",
   "metadata": {},
   "source": [
    "# 14. Übungsaufgaben\n",
    "\n",
    "### Aufgabe 1: \n",
    "\n",
    "Aus der Raumliste http://borus.de/pythoncamp/event.json ein Dictionary erstellen, das den Raumnamen in GROSSBUCHSTABEN als Schlüssel hat und die URL als Wert.\n",
    "\n",
    "Gewünschtes Ergebnis:\n",
    "\n",
    "    {\n",
    "     'BERLIN': 'https://bbb01.pythoncamp.online/b/rei-hyz-cgm',\n",
    "     'FLIEGENDER ZIRKUS': 'https://bbb01.pythoncamp.online/b/rei-hyz-cgm',\n",
    "     'TOKIO': 'https://bbb01.pythoncamp.online/b/rei-hyz-cgm'\n",
    "     ...\n",
    "     }"
   ]
  },
  {
   "cell_type": "code",
   "execution_count": 97,
   "metadata": {},
   "outputs": [],
   "source": [
    "import requests"
   ]
  },
  {
   "cell_type": "code",
   "execution_count": 98,
   "metadata": {},
   "outputs": [],
   "source": [
    "r = requests.get(r'http://borus.de/pythoncamp/event.json')"
   ]
  },
  {
   "cell_type": "code",
   "execution_count": 99,
   "metadata": {},
   "outputs": [
    {
     "data": {
      "text/plain": [
       "{'event': 'pythoncamp 2020',\n",
       " 'update': '2020-04-17 23:23:00',\n",
       " 'rooms': [{'name': 'Berlin',\n",
       "   'url': 'https://bbb01.pythoncamp.online/b/rei-hyz-cgm',\n",
       "   'access_code': '12345'},\n",
       "  {'name': 'Fliegender Zirkus',\n",
       "   'url': 'https://bbb01.pythoncamp.online/b/rei-hyz-cgm',\n",
       "   'access_code': '12345'},\n",
       "  {'name': 'London',\n",
       "   'url': 'https://bbb01.pythoncamp.online/b/rei-hyz-cgm',\n",
       "   'access_code': '12345'},\n",
       "  {'name': 'New York',\n",
       "   'url': 'https://bbb01.pythoncamp.online/b/rei-hyz-cgm',\n",
       "   'access_code': '12345'},\n",
       "  {'name': 'Paris',\n",
       "   'url': 'https://bbb01.pythoncamp.online/b/rei-hyz-cgm',\n",
       "   'access_code': '12345'},\n",
       "  {'name': 'Plenum',\n",
       "   'url': 'https://bbb01.pythoncamp.online/b/rei-hyz-cgm',\n",
       "   'access_code': '12345'},\n",
       "  {'name': 'Ritter der Kokosnuss',\n",
       "   'url': 'https://bbb01.pythoncamp.online/b/rei-hyz-cgm',\n",
       "   'access_code': '12345'},\n",
       "  {'name': 'Rom',\n",
       "   'url': 'https://bbb01.pythoncamp.online/b/rei-hyz-cgm',\n",
       "   'access_code': '12345'},\n",
       "  {'name': 'Spamalot',\n",
       "   'url': 'https://bbb01.pythoncamp.online/b/rei-hyz-cgm',\n",
       "   'access_code': '12345'},\n",
       "  {'name': 'Tokio',\n",
       "   'url': 'https://bbb01.pythoncamp.online/b/rei-hyz-cgm',\n",
       "   'access_code': '12345'}]}"
      ]
     },
     "execution_count": 99,
     "metadata": {},
     "output_type": "execute_result"
    }
   ],
   "source": [
    "r.json()"
   ]
  },
  {
   "cell_type": "code",
   "execution_count": null,
   "metadata": {},
   "outputs": [],
   "source": [
    "# hier die Spec bitte selbst schreiben\n",
    "spec = \"... ?\""
   ]
  },
  {
   "cell_type": "code",
   "execution_count": null,
   "metadata": {},
   "outputs": [],
   "source": [
    "glom(r.json(), spec)"
   ]
  },
  {
   "cell_type": "code",
   "execution_count": null,
   "metadata": {},
   "outputs": [],
   "source": []
  },
  {
   "cell_type": "markdown",
   "metadata": {},
   "source": [
    "### Aufgabe 2:\n",
    "\n",
    "Daten extrahieren aus der einer Online-Buchungsanfrage \n",
    "http://borus.de/pythoncamp/booking_example.json\n",
    "        \n",
    "Gewünschtes Ergebnis:\n",
    "\n",
    "    {'abfahrtshafen_hin': 'DKHNB',\n",
    "     'abfahrtsdatum_hin': '2019-09-01',\n",
    "     'abfahrtszeit_hin': '14:30',\n",
    "     'abfahrtshafen_rueck': 'DELIS',\n",
    "     'abfahrtsdatum_rueck': '2019-10-02',\n",
    "     'abfahrtszeit_rueck': '19:25',\n",
    "     'fahrkarten': ['CAR', 'AD', 'CH']\n",
    "    }\n"
   ]
  },
  {
   "cell_type": "code",
   "execution_count": 104,
   "metadata": {},
   "outputs": [],
   "source": [
    "r = requests.get(r'http://borus.de/pythoncamp/booking_example.json')"
   ]
  },
  {
   "cell_type": "code",
   "execution_count": 105,
   "metadata": {},
   "outputs": [
    {
     "data": {
      "text/plain": [
       "{'request_ip': '127.0.0.1',\n",
       " 'request_system': 'homepage',\n",
       " 'request_session': '<SESSION UUID4>',\n",
       " 'request_language': 'en',\n",
       " 'company': 'REDACTED',\n",
       " 'agency': None,\n",
       " 'client_no': '123456789',\n",
       " 'trip_special': None,\n",
       " 'booking_type': 'VEH',\n",
       " 'booking_currency': 'EUR',\n",
       " 'booking_no': None,\n",
       " 'trips': [{'trip_part': 'OUT',\n",
       "   'departure_harbor': 'DKHNB',\n",
       "   'destination_harbor': 'DELIS',\n",
       "   'date': '2019-09-01',\n",
       "   'time': '14:30',\n",
       "   'date_open': False,\n",
       "   'selected_voyage': 'H-L070145',\n",
       "   'selected_reservation_area': None,\n",
       "   'trip_discount percent': None},\n",
       "  {'trip_part': 'RET',\n",
       "   'departure_harbor': 'DELIS',\n",
       "   'destination_harbor': 'DKHNB',\n",
       "   'date': '2019-10-02',\n",
       "   'time': '19:25',\n",
       "   'date_open': False,\n",
       "   'selected_voyage': 'H-L070170',\n",
       "   'selected_reservation_area': None,\n",
       "   'trip_discount percent': None}],\n",
       " 'tickets': [{'type': 'CAR',\n",
       "   'token': None,\n",
       "   'is_vehicle': True,\n",
       "   'license_plate': 'NF-TEST-01',\n",
       "   'count': 1,\n",
       "   'length': 5.0,\n",
       "   'reservation_area': None,\n",
       "   'discounts': [{'type': None}]},\n",
       "  {'type': 'AD',\n",
       "   'token': None,\n",
       "   'is_vehicle': False,\n",
       "   'count': 2,\n",
       "   'length': None,\n",
       "   'reservation_area': None,\n",
       "   'discounts': [{'type': None}]},\n",
       "  {'type': 'CH',\n",
       "   'token': None,\n",
       "   'is_vehicle': False,\n",
       "   'count': 2,\n",
       "   'length': None,\n",
       "   'reservation_area': None,\n",
       "   'discounts': [{'type': None}]}],\n",
       " 'coupon': None,\n",
       " 'affiliate_code': None}"
      ]
     },
     "execution_count": 105,
     "metadata": {},
     "output_type": "execute_result"
    }
   ],
   "source": [
    "r.json()"
   ]
  },
  {
   "cell_type": "code",
   "execution_count": 107,
   "metadata": {},
   "outputs": [],
   "source": [
    "# Bitte hier die Spec schreiben\n",
    "spec = \"... ?\"\n"
   ]
  },
  {
   "cell_type": "code",
   "execution_count": 108,
   "metadata": {},
   "outputs": [
    {
     "data": {
      "text/plain": [
       "{'abfahrtshafen_hin': 'DKHNB',\n",
       " 'abfahrtsdatum_hin': '2019-09-01',\n",
       " 'abfahrtszeit_hin': '14:30',\n",
       " 'abfahrtshafen_rueck': 'DELIS',\n",
       " 'abfahrtsdatum_rueck': '2019-10-02',\n",
       " 'abfahrtszeit_rueck': '19:25',\n",
       " 'fahrkarten': ['CAR', 'AD', 'CH']}"
      ]
     },
     "execution_count": 108,
     "metadata": {},
     "output_type": "execute_result"
    }
   ],
   "source": [
    "glom(r.json(), spec)"
   ]
  },
  {
   "cell_type": "code",
   "execution_count": null,
   "metadata": {},
   "outputs": [],
   "source": []
  }
 ],
 "metadata": {
  "kernelspec": {
   "display_name": "Python 3",
   "language": "python",
   "name": "python3"
  },
  "language_info": {
   "codemirror_mode": {
    "name": "ipython",
    "version": 3
   },
   "file_extension": ".py",
   "mimetype": "text/x-python",
   "name": "python",
   "nbconvert_exporter": "python",
   "pygments_lexer": "ipython3",
   "version": "3.7.4"
  }
 },
 "nbformat": 4,
 "nbformat_minor": 4
}
